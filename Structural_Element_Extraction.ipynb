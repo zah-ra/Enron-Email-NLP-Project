{
  "cells": [
    {
      "cell_type": "code",
      "execution_count": null,
      "metadata": {
        "collapsed": true,
        "id": "56W7g0x7lWbW"
      },
      "outputs": [],
      "source": [
        "# !pip install --upgrade transformers\n",
        "!pip install datasets"
      ]
    },
    {
      "cell_type": "code",
      "execution_count": null,
      "metadata": {
        "colab": {
          "base_uri": "https://localhost:8080/"
        },
        "id": "gVvLip8nCHjX",
        "outputId": "60b2cd92-0964-42f3-dd7d-fe54424bcc6f"
      },
      "outputs": [
        {
          "name": "stdout",
          "output_type": "stream",
          "text": [
            "Mounted at /content/drive\n"
          ]
        }
      ],
      "source": [
        "from google.colab import drive\n",
        "drive.mount('/content/drive')"
      ]
    },
    {
      "cell_type": "code",
      "execution_count": null,
      "metadata": {
        "collapsed": true,
        "id": "Hf-QszUtHZmb"
      },
      "outputs": [],
      "source": [
        "import pandas as pd\n",
        "data_path = \"/content/drive/MyDrive/sample_emails_clean.csv\"\n",
        "emails_clean = pd.read_csv(data_path)\n",
        "pd.set_option('display.max_colwidth', None)"
      ]
    },
    {
      "cell_type": "markdown",
      "metadata": {
        "id": "gNCOk73k4_Nn"
      },
      "source": [
        "### Step 1: Sentence Tokenize"
      ]
    },
    {
      "cell_type": "markdown",
      "metadata": {
        "id": "FfjEgshdIG90"
      },
      "source": [
        "### Step 2: Label a Small Subset Manually"
      ]
    },
    {
      "cell_type": "code",
      "execution_count": null,
      "metadata": {
        "id": "bFcjRJdDILbv"
      },
      "outputs": [],
      "source": [
        "import re\n",
        "\n",
        "greeting_pattern = re.compile(\n",
        "    r\"^(dear|hi|hello|hey|greetings|good (morning|afternoon|evening))\\b.*?[.,:\\n]?\",\n",
        "    re.IGNORECASE\n",
        ")\n",
        "\n",
        "\n",
        "def label_greetings(df):\n",
        "    labeled = []\n",
        "    for email_id, group in df.groupby(\"email_id\"):\n",
        "        group = group.copy().reset_index(drop=True)\n",
        "        group[\"label\"] = \"O\"\n",
        "        for i in range(min(2, len(group))):\n",
        "            sentence = group.loc[i, \"sentence\"]\n",
        "            if isinstance(sentence, str) and greeting_pattern.search(sentence.strip()):\n",
        "                group.loc[i, \"label\"] = \"GREETING\"\n",
        "        labeled.append(group)\n",
        "    return pd.concat(labeled, ignore_index=True)\n",
        "\n",
        "labeled_sentences = label_greetings(emails_sentences)"
      ]
    },
    {
      "cell_type": "code",
      "execution_count": null,
      "metadata": {
        "id": "9WQ80_RLTN7l"
      },
      "outputs": [],
      "source": [
        "import re\n",
        "import spacy\n",
        "\n",
        "nlp = spacy.load(\"en_core_web_sm\")\n",
        "closing_pattern = re.compile(\n",
        "    r\"(?i)\\b(\"\n",
        "    r\"thank\\s+you|thanks|thanks\\s+again|thanks\\s+and\\s+regards|\"\n",
        "    r\"sincerely|regards|best\\s+regards|kind\\s+regards|\"\n",
        "    r\"warm\\s+regards|many\\s+thanks|cheers|happy\\s+holidays|\"\n",
        "    r\"CONFIDENTIALITY AND WARNING NOTICE:\"\n",
        "    r\")\\b[.,]?$\"\n",
        ")\n",
        "\n",
        "def label_closing_and_signature(df):\n",
        "    labeled = []\n",
        "\n",
        "    for email_id, group in df.groupby(\"email_id\"):\n",
        "        group = group.copy().reset_index(drop=True)\n",
        "        if len(group) < 2:\n",
        "            labeled.append(group)\n",
        "            continue\n",
        "\n",
        "        last_idxs = group.tail(2).index\n",
        "\n",
        "        for i in last_idxs:\n",
        "            if group.loc[i, \"label\"] != \"O\":\n",
        "                continue\n",
        "\n",
        "            sentence = group.loc[i, \"sentence\"]\n",
        "            doc = nlp(sentence)\n",
        "\n",
        "            has_person_or_org = any(ent.label_ in (\"PERSON\", \"ORG\") for ent in doc.ents)\n",
        "            has_closing_phrase = closing_pattern.search(sentence) is not None\n",
        "\n",
        "            if has_closing_phrase:\n",
        "                group.loc[i, \"label\"] = \"CLOSING\"\n",
        "            elif has_person_or_org:\n",
        "                group.loc[i, \"label\"] = \"SIGNATURE\"\n",
        "\n",
        "        labeled.append(group)\n",
        "\n",
        "    return pd.concat(labeled, ignore_index=True)\n",
        "\n",
        "labeled_sentences = label_closing_and_signature(labeled_sentences)\n"
      ]
    },
    {
      "cell_type": "code",
      "execution_count": null,
      "metadata": {
        "id": "IX0x5FYjgal9"
      },
      "outputs": [],
      "source": [
        "def label_body(df):\n",
        "    labeled = []\n",
        "\n",
        "    for email_id, group in df.groupby(\"email_id\"):\n",
        "        group = group.copy().reset_index(drop=True)\n",
        "        group.loc[group[\"label\"] == \"O\", \"label\"] = \"BODY\"\n",
        "        labeled.append(group)\n",
        "\n",
        "    return pd.concat(labeled, ignore_index=True)\n",
        "\n",
        "labeled_sentences = label_body(labeled_sentences)\n"
      ]
    },
    {
      "cell_type": "code",
      "execution_count": null,
      "metadata": {
        "colab": {
          "base_uri": "https://localhost:8080/"
        },
        "id": "RoYzOlwK1pUL",
        "outputId": "952759fb-77ec-4b77-a0a3-c38ab44c6608"
      },
      "outputs": [
        {
          "name": "stdout",
          "output_type": "stream",
          "text": [
            "Label: BODY, Count: 4042\n",
            "Label: SIGNATURE, Count: 389\n",
            "Label: GREETING, Count: 30\n",
            "Label: CLOSING, Count: 28\n"
          ]
        }
      ],
      "source": [
        "label_counts = labeled_sentences['label'].value_counts()\n",
        "\n",
        "for label, count in label_counts.items():\n",
        "    print(f\"Label: {label}, Count: {count}\")"
      ]
    },
    {
      "cell_type": "markdown",
      "metadata": {
        "id": "AMVupH8KMyLn"
      },
      "source": [
        "### Step 3: Train/Validation Split"
      ]
    },
    {
      "cell_type": "markdown",
      "metadata": {
        "id": "p2BbIF-2M4Uo"
      },
      "source": [
        "### Step 4: Prepare for Model Training"
      ]
    },
    {
      "cell_type": "markdown",
      "metadata": {
        "id": "hAdsyZ0YNVhM"
      },
      "source": [
        "### Step 5: Fine-Tune Transformer Model"
      ]
    },
    {
      "cell_type": "markdown",
      "metadata": {
        "id": "Fihymha-Na9o"
      },
      "source": [
        "### Step 6: Evaluate"
      ]
    },
    {
      "cell_type": "markdown",
      "metadata": {
        "id": "ESOfSkZ4wDeB"
      },
      "source": [
        "## bert-base-cased"
      ]
    },
    {
      "cell_type": "code",
      "execution_count": null,
      "metadata": {
        "colab": {
          "base_uri": "https://localhost:8080/"
        },
        "id": "ln22rcjzw6lH",
        "outputId": "15c024fd-1f52-4202-b4b8-b62434390f87"
      },
      "outputs": [
        {
          "name": "stderr",
          "output_type": "stream",
          "text": [
            "[nltk_data] Downloading package averaged_perceptron_tagger to\n",
            "[nltk_data]     /root/nltk_data...\n",
            "[nltk_data]   Unzipping taggers/averaged_perceptron_tagger.zip.\n",
            "[nltk_data] Downloading package maxent_ne_chunker to\n",
            "[nltk_data]     /root/nltk_data...\n",
            "[nltk_data]   Unzipping chunkers/maxent_ne_chunker.zip.\n",
            "[nltk_data] Downloading package punkt to /root/nltk_data...\n",
            "[nltk_data]   Unzipping tokenizers/punkt.zip.\n",
            "[nltk_data] Downloading package words to /root/nltk_data...\n",
            "[nltk_data]   Unzipping corpora/words.zip.\n",
            "[nltk_data] Downloading package punkt_tab to /root/nltk_data...\n",
            "[nltk_data]   Unzipping tokenizers/punkt_tab.zip.\n"
          ]
        }
      ],
      "source": [
        "import os\n",
        "import re\n",
        "import pandas as pd\n",
        "import nltk\n",
        "import spacy\n",
        "from itertools import chain\n",
        "from sklearn.model_selection import train_test_split\n",
        "from sklearn.preprocessing import LabelEncoder\n",
        "from datasets import Dataset\n",
        "from nltk import sent_tokenize, word_tokenize, pos_tag, ne_chunk\n",
        "from transformers import AutoTokenizer, AutoModelForSequenceClassification, TrainingArguments, Trainer, EarlyStoppingCallback\n",
        "from sklearn.metrics import classification_report, confusion_matrix, ConfusionMatrixDisplay\n",
        "import matplotlib.pyplot as plt\n",
        "import torch.nn as nn\n",
        "from transformers import EarlyStoppingCallback\n",
        "\n",
        "nltk.download('averaged_perceptron_tagger')\n",
        "nltk.download('maxent_ne_chunker')\n",
        "nltk.download('punkt')\n",
        "nltk.download('words')\n",
        "nltk.download('punkt_tab')\n",
        "\n",
        "def split_email(email_text):\n",
        "    if not isinstance(email_text, str):\n",
        "        email_text = str(email_text)\n",
        "    return sent_tokenize(email_text)\n",
        "\n",
        "def flatten_email_sentences(sample_emails):\n",
        "    flattened = []\n",
        "    for idx, row in sample_emails.iterrows():\n",
        "        for sent in row[\"sentences\"]:\n",
        "            flattened.append({\n",
        "                \"email_id\": idx,\n",
        "                \"sentence\": sent,\n",
        "                \"label\": \"\"\n",
        "            })\n",
        "    return pd.DataFrame(flattened)\n",
        "\n",
        "\n",
        "greeting_pattern = re.compile(\n",
        "    r\"^(dear|hi|hello|hey|greetings|good (morning|afternoon|evening))\\b.*?[.,:\\n]?\",\n",
        "    re.IGNORECASE\n",
        ")\n",
        "\n",
        "def label_greetings(df):\n",
        "    labeled = []\n",
        "    for email_id, group in df.groupby(\"email_id\"):\n",
        "        group = group.copy().reset_index(drop=True)\n",
        "        group[\"label\"] = \"O\"\n",
        "        for i in range(min(2, len(group))):\n",
        "            sentence = group.loc[i, \"sentence\"]\n",
        "            if isinstance(sentence, str) and greeting_pattern.search(sentence.strip()):\n",
        "                group.loc[i, \"label\"] = \"GREETING\"\n",
        "        labeled.append(group)\n",
        "    return pd.concat(labeled, ignore_index=True)\n",
        "\n",
        "\n",
        "nlp = spacy.load(\"en_core_web_sm\")\n",
        "closing_pattern = re.compile(\n",
        "    r\"(?i)\\b(\"\n",
        "    r\"thank\\s+you|thanks|thanks\\s+again|thanks\\s+and\\s+regards|\"\n",
        "    r\"sincerely|regards|best\\s+regards|kind\\s+regards|\"\n",
        "    r\"warm\\s+regards|many\\s+thanks|cheers|happy\\s+holidays|\"\n",
        "    r\"CONFIDENTIALITY AND WARNING NOTICE:\"\n",
        "    r\")\\b[.,]?$\"\n",
        ")\n",
        "\n",
        "def label_closing_and_signature(df):\n",
        "    labeled = []\n",
        "\n",
        "    for email_id, group in df.groupby(\"email_id\"):\n",
        "        group = group.copy().reset_index(drop=True)\n",
        "        if len(group) < 2:\n",
        "            labeled.append(group)\n",
        "            continue\n",
        "\n",
        "        last_idxs = group.tail(2).index\n",
        "\n",
        "        for i in last_idxs:\n",
        "            if group.loc[i, \"label\"] != \"O\":\n",
        "                continue\n",
        "\n",
        "            sentence = group.loc[i, \"sentence\"]\n",
        "            doc = nlp(sentence)\n",
        "\n",
        "            has_person_or_org = any(ent.label_ in (\"PERSON\", \"ORG\") for ent in doc.ents)\n",
        "            has_closing_phrase = closing_pattern.search(sentence) is not None\n",
        "\n",
        "            if has_closing_phrase:\n",
        "                group.loc[i, \"label\"] = \"CLOSING\"\n",
        "            elif has_person_or_org:\n",
        "                group.loc[i, \"label\"] = \"SIGNATURE\"\n",
        "\n",
        "        labeled.append(group)\n",
        "\n",
        "    return pd.concat(labeled, ignore_index=True)\n",
        "\n",
        "\n",
        "def label_body(df):\n",
        "    labeled = []\n",
        "\n",
        "    for email_id, group in df.groupby(\"email_id\"):\n",
        "        group = group.copy().reset_index(drop=True)\n",
        "\n",
        "        group.loc[group[\"label\"] == \"O\", \"label\"] = \"BODY\"\n",
        "\n",
        "        labeled.append(group)\n",
        "\n",
        "    return pd.concat(labeled, ignore_index=True)\n",
        "\n",
        "\n",
        "\n",
        "def extend_labeled_dataset_with_signatures(\n",
        "    existing_df: pd.DataFrame,\n",
        "    signature_file_path: str,\n",
        "    signature_column: str = \"signature\",\n",
        "    save_path: str = None,\n",
        "    shuffle: bool = True,\n",
        "    random_state: int = 42\n",
        ") -> pd.DataFrame:\n",
        "    signature_df = pd.read_excel(signature_file_path)\n",
        "    if signature_column not in signature_df.columns:\n",
        "        raise ValueError(f\"Column '{signature_column}' not found in the Excel file.\")\n",
        "    new_rows = pd.DataFrame({\n",
        "        \"email_id\": [\"synthetic_signature\"] * len(signature_df),\n",
        "        \"sentence\": signature_df[signature_column].astype(str).str.strip(),\n",
        "        \"label\": [\"SIGNATURE\"] * len(signature_df)\n",
        "    })\n",
        "    extended_df = pd.concat([existing_df, new_rows], ignore_index=True)\n",
        "    if shuffle:\n",
        "        extended_df = extended_df.sample(frac=1, random_state=random_state).reset_index(drop=True)\n",
        "    if save_path:\n",
        "        extended_df.to_csv(save_path, index=False)\n",
        "    return extended_df\n",
        "\n",
        "\n",
        "# --- Configuration ---\n",
        "MODEL_NAME = \"bert-base-cased\"\n",
        "NUM_EPOCHS = 3\n",
        "OUTPUT_DIR = \"/content/drive/MyDrive/bert_structural_elements\"\n",
        "LOGGING_DIR = \"./logs\"\n",
        "BATCH_SIZE = 8\n",
        "WEIGHT_DECAY = 0.01\n",
        "RANDOM_STATE = 42\n",
        "\n",
        "\n",
        "def prepare_data(labeled_df):\n",
        "    le = LabelEncoder()\n",
        "    labeled_df = labeled_df.copy()\n",
        "    labeled_df[\"label_id\"] = le.fit_transform(labeled_df[\"label\"])\n",
        "\n",
        "    train_df, val_df = train_test_split(\n",
        "        labeled_df[[\"sentence\", \"label_id\"]],\n",
        "        test_size=0.2,\n",
        "        stratify=labeled_df[\"label_id\"],\n",
        "        random_state=RANDOM_STATE\n",
        "    )\n",
        "    return train_df, val_df, le\n",
        "\n",
        "def tokenize_data(train_df, val_df):\n",
        "    tokenizer = AutoTokenizer.from_pretrained(MODEL_NAME)\n",
        "    train_dataset = Dataset.from_pandas(train_df)\n",
        "    val_dataset = Dataset.from_pandas(val_df)\n",
        "\n",
        "    def tokenize(batch):\n",
        "        return tokenizer(batch[\"sentence\"], padding=\"max_length\", truncation=True)\n",
        "\n",
        "    train_dataset = train_dataset.map(tokenize, batched=True)\n",
        "    val_dataset = val_dataset.map(tokenize, batched=True)\n",
        "    if \"label_id\" in train_dataset.column_names:\n",
        "        train_dataset = train_dataset.rename_column(\"label_id\", \"labels\")\n",
        "    if \"label_id\" in val_dataset.column_names:\n",
        "        val_dataset = val_dataset.rename_column(\"label_id\", \"labels\")\n",
        "    return train_dataset, val_dataset, tokenizer\n",
        "\n",
        "\n",
        "def train_model(train_dataset, val_dataset, tokenizer, num_labels, id2label, label2id, class_weights=None):\n",
        "    print(MODEL_NAME)\n",
        "    model = AutoModelForSequenceClassification.from_pretrained(\n",
        "        MODEL_NAME,\n",
        "        num_labels=num_labels,\n",
        "        id2label=id2label,\n",
        "        label2id=label2id\n",
        "    )\n",
        "\n",
        "\n",
        "    if class_weights is not None:\n",
        "        class_weights = class_weights.to(model.device)\n",
        "\n",
        "        def compute_loss(model, inputs, return_outputs=False):\n",
        "            labels = inputs.pop(\"labels\")\n",
        "            outputs = model(**inputs)\n",
        "            logits = outputs.logits\n",
        "            loss_fct = nn.CrossEntropyLoss(weight=class_weights)\n",
        "            loss = loss_fct(logits, labels)\n",
        "            return (loss, outputs) if return_outputs else loss\n",
        "\n",
        "        model.compute_loss = compute_loss\n",
        "\n",
        "    args = TrainingArguments(\n",
        "        output_dir=OUTPUT_DIR,\n",
        "        logging_dir=LOGGING_DIR,\n",
        "        num_train_epochs=NUM_EPOCHS,\n",
        "        per_device_train_batch_size=BATCH_SIZE,\n",
        "        per_device_eval_batch_size=BATCH_SIZE * 2,\n",
        "        eval_strategy=\"epoch\",\n",
        "        save_strategy=\"epoch\",\n",
        "        load_best_model_at_end=True,\n",
        "        metric_for_best_model=\"eval_loss\",\n",
        "        greater_is_better=False,\n",
        "        weight_decay=WEIGHT_DECAY,\n",
        "        logging_steps=50\n",
        "    )\n",
        "\n",
        "    trainer = Trainer(\n",
        "        model=model,\n",
        "        args=args,\n",
        "        train_dataset=train_dataset,\n",
        "        eval_dataset=val_dataset,\n",
        "        tokenizer=tokenizer,\n",
        "        callbacks=[EarlyStoppingCallback(early_stopping_patience=2)]\n",
        "    )\n",
        "\n",
        "    trainer.train()\n",
        "    model.save_pretrained(OUTPUT_DIR)\n",
        "    tokenizer.save_pretrained(OUTPUT_DIR)\n",
        "    return trainer\n",
        "\n",
        "\n",
        "def evaluate_model(trainer, val_dataset, label_encoder):\n",
        "    preds = trainer.predict(val_dataset)\n",
        "    y_true = preds.label_ids\n",
        "    y_pred = preds.predictions.argmax(axis=1)\n",
        "\n",
        "    print(classification_report(y_true, y_pred, target_names=label_encoder.classes_))\n",
        "    cm = confusion_matrix(y_true, y_pred)\n",
        "    ConfusionMatrixDisplay(confusion_matrix=cm, display_labels=label_encoder.classes_).plot()\n",
        "    plt.show()"
      ]
    },
    {
      "cell_type": "code",
      "execution_count": null,
      "metadata": {
        "colab": {
          "base_uri": "https://localhost:8080/"
        },
        "id": "JmsXkmWa4MlC",
        "outputId": "b329de64-754c-4087-aecd-c375b718f2e3"
      },
      "outputs": [
        {
          "name": "stdout",
          "output_type": "stream",
          "text": [
            "Label: BODY, Count: 4042\n",
            "Label: SIGNATURE, Count: 389\n",
            "Label: GREETING, Count: 30\n",
            "Label: CLOSING, Count: 28\n"
          ]
        }
      ],
      "source": [
        "emails_clean[\"sentences\"] = emails_clean[\"clean_main_message\"].apply(split_email)\n",
        "sample_emails = emails_clean.sample(n=500, random_state=42).reset_index(drop=True)\n",
        "emails_sentences = flatten_email_sentences(sample_emails)\n",
        "labeled_sentences = label_greetings(emails_sentences)\n",
        "labeled_sentences = label_closing_and_signature(labeled_sentences)\n",
        "labeled_sentences = label_body(labeled_sentences)\n",
        "label_counts = labeled_sentences['label'].value_counts()\n",
        "\n",
        "for label, count in label_counts.items():\n",
        "    print(f\"Label: {label}, Count: {count}\")"
      ]
    },
    {
      "cell_type": "code",
      "execution_count": null,
      "metadata": {
        "colab": {
          "base_uri": "https://localhost:8080/",
          "height": 348,
          "referenced_widgets": [
            "e46a9fd86f95429daacbfd045b434885",
            "6250379f39f44d0293f4b3ee5a2b9db8",
            "97772eef829c417391ce9526b704fe54",
            "9877caec35eb494abbebec12ab04cad6",
            "0cddcbcb78a74d9d9b3c7575662d5e35",
            "9a8b12ffc139494f8a477b866a8f7e8a",
            "cfa61cb2bc7f43da88118a8411d70679",
            "406ba2b7b61f4411bfb2cfbdf84daf73",
            "6bb3194137a14f49a403c8375099f1e7",
            "8949bf85de2f435f81245f91e3e34653",
            "a27f8c6f93b94d7dba7780568f949a13",
            "a2a511248f3b4ee3a15fa3a8959991dd",
            "dcfc18cd4dac415d9c6c730d38da9fa4",
            "281ef0e9f84b4a648871d094c21d61cb",
            "ded1f77f70ed4fbab0be7ea7986c41b6",
            "028dbfe34b484ea487bce91db01a34cb",
            "12a40fffab4342d0bef080203683648e",
            "095bcbefe993451d8dc35d1e5042288d",
            "2efc181f10484f3283e64787700d4258",
            "2f76bb12b648468f98f6a07e74bb74f3",
            "87d8f92d861243de9ce4a1fb3efc167c",
            "62dca945a766487bb1790a486f27d493",
            "36f189c315494f69aac28caacbad50ac",
            "5d51ac567ff14edf9dd120506a52aa9b",
            "44c84b2a5825442e81fb2ecfdc154d1b",
            "6d6f9bdda60c404aade622e910c99b6d",
            "0e15b1750f7d4bf79bd3af5338aec370",
            "cedf2bcd6a744cf583e1aa8c3fb38415",
            "9f20bcb10dfa4d82981f51fc2c270639",
            "b858ea14932c4491943f2cf4dbcd71db",
            "31c1a0a3f1d0481cb614f41cb30c67be",
            "189004695bc54861b9cc3daf943e3df4",
            "764eff05cf26486cbd773c3f0dd7921a",
            "f3f57c0d1fad463db15605fbeeba0fd7",
            "0bbfd0207f4743499a576f1785f1ec9c",
            "5cad3377f1f04953a1c2090fe10d5b25",
            "397cc89186d246109547d751891987a8",
            "5827847bf56248ff84b249787fdd2172",
            "71a61b3e7257449abe83390d12cfcdc4",
            "8b2d0128d3a5406cafbad6885a9461fa",
            "77fb6b3e365a4a01a9d43a56bc63eede",
            "e16c7242a2c24c13b38b6f1f11f833a5",
            "4276100cce594042ac298dfbeb8586a5",
            "0fe4ff97409846058acbd5671f227874",
            "1d3060630d674f75b128c816d39cc3b1",
            "817b66eba6a041649604befb15fea4ff",
            "10e3823d24ad4f06b79d1b7b79e4faf9",
            "1376638652894397b6b557d69477b1d9",
            "6d199fad6b86477d9ff10515137bc791",
            "397861f8c9574aa496975394981145e3",
            "8c9c057a455b42858b49f265f01f973b",
            "147d09e489724c819fb2a10d0326463f",
            "29f9f526c43a436f9560aa0132b86bfb",
            "c87731980e8d49bebb867e0b457581bf",
            "bef5c79e25a1431cbb606488a931eda5",
            "6ae75ddf5f254699bff5e1f07bf5bb63",
            "ca6831f6ebcb453fa97d53871c367f17",
            "f5d30bd284c94ede995ceea9c20b300d",
            "e3c5612e28a24eb0b0229bf813a00910",
            "bfdfbdef1ae248d9811d9346687a6922",
            "e574516b89964b59999ea3fbf19c69cb",
            "c28bb76c0b134866a887139d0a25f023",
            "44b9ae2ea735431595888da0e80c9a0e",
            "6d04a955d4c34c73948ccbf854f5ea3f",
            "5c20817787d344f3ad80832a6b6c86a1",
            "a1044ed00f0247169bff83923d05a8e2"
          ]
        },
        "id": "5rXCmV4XxNQp",
        "outputId": "1620e0bb-3c18-4cc8-db3c-7402ddc376fb"
      },
      "outputs": [
        {
          "name": "stderr",
          "output_type": "stream",
          "text": [
            "/usr/local/lib/python3.11/dist-packages/huggingface_hub/utils/_auth.py:94: UserWarning: \n",
            "The secret `HF_TOKEN` does not exist in your Colab secrets.\n",
            "To authenticate with the Hugging Face Hub, create a token in your settings tab (https://huggingface.co/settings/tokens), set it as secret in your Google Colab and restart your session.\n",
            "You will be able to reuse this secret in all of your notebooks.\n",
            "Please note that authentication is recommended but still optional to access public models or datasets.\n",
            "  warnings.warn(\n"
          ]
        },
        {
          "data": {
            "application/vnd.jupyter.widget-view+json": {
              "model_id": "e46a9fd86f95429daacbfd045b434885",
              "version_major": 2,
              "version_minor": 0
            },
            "text/plain": [
              "tokenizer_config.json:   0%|          | 0.00/49.0 [00:00<?, ?B/s]"
            ]
          },
          "metadata": {},
          "output_type": "display_data"
        },
        {
          "data": {
            "application/vnd.jupyter.widget-view+json": {
              "model_id": "a2a511248f3b4ee3a15fa3a8959991dd",
              "version_major": 2,
              "version_minor": 0
            },
            "text/plain": [
              "config.json:   0%|          | 0.00/570 [00:00<?, ?B/s]"
            ]
          },
          "metadata": {},
          "output_type": "display_data"
        },
        {
          "data": {
            "application/vnd.jupyter.widget-view+json": {
              "model_id": "36f189c315494f69aac28caacbad50ac",
              "version_major": 2,
              "version_minor": 0
            },
            "text/plain": [
              "vocab.txt:   0%|          | 0.00/213k [00:00<?, ?B/s]"
            ]
          },
          "metadata": {},
          "output_type": "display_data"
        },
        {
          "data": {
            "application/vnd.jupyter.widget-view+json": {
              "model_id": "f3f57c0d1fad463db15605fbeeba0fd7",
              "version_major": 2,
              "version_minor": 0
            },
            "text/plain": [
              "tokenizer.json:   0%|          | 0.00/436k [00:00<?, ?B/s]"
            ]
          },
          "metadata": {},
          "output_type": "display_data"
        },
        {
          "data": {
            "application/vnd.jupyter.widget-view+json": {
              "model_id": "1d3060630d674f75b128c816d39cc3b1",
              "version_major": 2,
              "version_minor": 0
            },
            "text/plain": [
              "Map:   0%|          | 0/3591 [00:00<?, ? examples/s]"
            ]
          },
          "metadata": {},
          "output_type": "display_data"
        },
        {
          "data": {
            "application/vnd.jupyter.widget-view+json": {
              "model_id": "6ae75ddf5f254699bff5e1f07bf5bb63",
              "version_major": 2,
              "version_minor": 0
            },
            "text/plain": [
              "Map:   0%|          | 0/898 [00:00<?, ? examples/s]"
            ]
          },
          "metadata": {},
          "output_type": "display_data"
        },
        {
          "name": "stdout",
          "output_type": "stream",
          "text": [
            "{0: 'BODY', 1: 'CLOSING', 2: 'GREETING', 3: 'SIGNATURE'}\n",
            "{'BODY': 0, 'CLOSING': 1, 'GREETING': 2, 'SIGNATURE': 3}\n"
          ]
        }
      ],
      "source": [
        "train_df, val_df, label_encoder = prepare_data(labeled_sentences)\n",
        "train_dataset, val_dataset, tokenizer = tokenize_data(train_df, val_df)\n",
        "id2label = {i: l for i, l in enumerate(label_encoder.classes_)}\n",
        "label2id = {l: i for i, l in enumerate(label_encoder.classes_)}\n",
        "print(id2label)\n",
        "print(label2id)"
      ]
    },
    {
      "cell_type": "code",
      "execution_count": null,
      "metadata": {
        "colab": {
          "base_uri": "https://localhost:8080/",
          "height": 305,
          "referenced_widgets": [
            "6a48147c64c34b169f75c2228831a3f9",
            "3f9696fc8a0346999d38c6f220f65298",
            "0bf058cab760434184c1fe96f9c6f0bb",
            "eef656cc657f48ff98af4681fe97e080",
            "102dd00c19e94674a8b37803da93cd7e",
            "ac64710d0b73442a8dedaced07ac2323",
            "3b025d11273e4605a120cdf1879b09ce",
            "17477957d3cd43f9a84ef2c6242a9a0e",
            "93fa7df241f74f0f818380f0b1256d12",
            "320011f8bc8445ab99bbb72e92d3c648",
            "021e5190174a4991b711749704a15803"
          ]
        },
        "id": "HG1vIDr9xx1J",
        "outputId": "2831f94f-24e6-4100-dfa7-eb28f64f4d8f"
      },
      "outputs": [
        {
          "name": "stdout",
          "output_type": "stream",
          "text": [
            "bert-base-cased\n"
          ]
        },
        {
          "data": {
            "application/vnd.jupyter.widget-view+json": {
              "model_id": "6a48147c64c34b169f75c2228831a3f9",
              "version_major": 2,
              "version_minor": 0
            },
            "text/plain": [
              "model.safetensors:   0%|          | 0.00/436M [00:00<?, ?B/s]"
            ]
          },
          "metadata": {},
          "output_type": "display_data"
        },
        {
          "name": "stderr",
          "output_type": "stream",
          "text": [
            "Some weights of BertForSequenceClassification were not initialized from the model checkpoint at bert-base-cased and are newly initialized: ['classifier.bias', 'classifier.weight']\n",
            "You should probably TRAIN this model on a down-stream task to be able to use it for predictions and inference.\n",
            "Using the `WANDB_DISABLED` environment variable is deprecated and will be removed in v5. Use the --report_to flag to control the integrations used for logging result (for instance --report_to none).\n",
            "/tmp/ipython-input-4-3301086958.py:215: FutureWarning: `tokenizer` is deprecated and will be removed in version 5.0.0 for `Trainer.__init__`. Use `processing_class` instead.\n",
            "  trainer = Trainer(\n"
          ]
        },
        {
          "data": {
            "text/html": [
              "\n",
              "    <div>\n",
              "      \n",
              "      <progress value='1347' max='1347' style='width:300px; height:20px; vertical-align: middle;'></progress>\n",
              "      [1347/1347 18:51, Epoch 3/3]\n",
              "    </div>\n",
              "    <table border=\"1\" class=\"dataframe\">\n",
              "  <thead>\n",
              " <tr style=\"text-align: left;\">\n",
              "      <th>Epoch</th>\n",
              "      <th>Training Loss</th>\n",
              "      <th>Validation Loss</th>\n",
              "    </tr>\n",
              "  </thead>\n",
              "  <tbody>\n",
              "    <tr>\n",
              "      <td>1</td>\n",
              "      <td>0.252800</td>\n",
              "      <td>0.229124</td>\n",
              "    </tr>\n",
              "    <tr>\n",
              "      <td>2</td>\n",
              "      <td>0.200800</td>\n",
              "      <td>0.216001</td>\n",
              "    </tr>\n",
              "    <tr>\n",
              "      <td>3</td>\n",
              "      <td>0.093100</td>\n",
              "      <td>0.331483</td>\n",
              "    </tr>\n",
              "  </tbody>\n",
              "</table><p>"
            ],
            "text/plain": [
              "<IPython.core.display.HTML object>"
            ]
          },
          "metadata": {},
          "output_type": "display_data"
        }
      ],
      "source": [
        "os.environ[\"WANDB_DISABLED\"] = \"true\"\n",
        "OUTPUT_DIR = \"./bert_structural_elements\"\n",
        "trainer_base = train_model(train_dataset, val_dataset, tokenizer, len(label_encoder.classes_), id2label, label2id)"
      ]
    },
    {
      "cell_type": "code",
      "execution_count": null,
      "metadata": {
        "colab": {
          "base_uri": "https://localhost:8080/",
          "height": 644
        },
        "id": "3EUCCzkxyl7e",
        "outputId": "e1896267-896a-4796-f42d-3bfbd81e22cd"
      },
      "outputs": [
        {
          "data": {
            "text/html": [],
            "text/plain": [
              "<IPython.core.display.HTML object>"
            ]
          },
          "metadata": {},
          "output_type": "display_data"
        },
        {
          "name": "stdout",
          "output_type": "stream",
          "text": [
            "              precision    recall  f1-score   support\n",
            "\n",
            "        BODY       0.95      0.99      0.97       808\n",
            "     CLOSING       0.83      0.83      0.83         6\n",
            "    GREETING       0.75      1.00      0.86         6\n",
            "   SIGNATURE       0.91      0.41      0.57        78\n",
            "\n",
            "    accuracy                           0.94       898\n",
            "   macro avg       0.86      0.81      0.81       898\n",
            "weighted avg       0.94      0.94      0.93       898\n",
            "\n"
          ]
        },
        {
          "data": {
            "image/png": "[encoded data removed]",
            "text/plain": [
              "<Figure size 640x480 with 2 Axes>"
            ]
          },
          "metadata": {},
          "output_type": "display_data"
        }
      ],
      "source": [
        "evaluate_model(trainer_base, val_dataset, label_encoder)"
      ]
    },
    {
      "cell_type": "markdown",
      "metadata": {
        "id": "462nTIhQCSk2"
      },
      "source": [
        "### **Improvement:** Scaled Sample with Signatures\n"
      ]
    },
    {
      "cell_type": "code",
      "execution_count": null,
      "metadata": {
        "id": "a8JAFb0VrJFi"
      },
      "outputs": [],
      "source": [
        "# signature_list = pd.read_excel(\"/content/drive/MyDrive/sig_list.xlsx\")\n",
        "path = \"/content/drive/MyDrive/signatures_list.xlsx\"\n",
        "labeled_sentences = pd.read_csv(\"/content/drive/MyDrive/scaled_labeled_sentences.csv\")\n",
        "final_labeled_sentences = extend_labeled_dataset_with_signatures(labeled_sentences, path)"
      ]
    },
    {
      "cell_type": "code",
      "execution_count": null,
      "metadata": {
        "colab": {
          "base_uri": "https://localhost:8080/"
        },
        "id": "eZlBupna5ah_",
        "outputId": "d61a9550-7554-4272-c1bf-7ac6f3540807"
      },
      "outputs": [
        {
          "name": "stdout",
          "output_type": "stream",
          "text": [
            "Label: BODY, Count: 4042\n",
            "Label: CLOSING, Count: 587\n",
            "Label: SIGNATURE, Count: 521\n",
            "Label: GREETING, Count: 301\n"
          ]
        }
      ],
      "source": [
        "label_counts = final_labeled_sentences['label'].value_counts()\n",
        "for label, count in label_counts.items():\n",
        "    print(f\"Label: {label}, Count: {count}\")"
      ]
    },
    {
      "cell_type": "code",
      "execution_count": null,
      "metadata": {
        "colab": {
          "base_uri": "https://localhost:8080/",
          "height": 313,
          "referenced_widgets": [
            "628e6527e6ee48f39e86ffe18d1a9354",
            "14d5cea9e901482f8f824b8b696acc46",
            "c795f356137c437f83cd09da1956905d",
            "b5a33f61f9d540c892d30e7733086351",
            "83169c104baa41fc8c0703b69cfda63e",
            "a34ee9a56e494df4a4513b72ec8ef980",
            "f602fe15cd494bf9a3f94518cf0e2bae",
            "6178146796d34d13b7d93d9c5c4cfd49",
            "34a6b906be934c1794f09caff9b76365",
            "67232d4adf2544338b9f3ccbac5389b0",
            "fd7397a581de4be1821d936aeefbf015",
            "1700b04b93fa4ecb8a1e6494d58fede3",
            "f6bdd695312b46e99cf98c39dd41212e",
            "1b9406a4c5a4469ab6df01ecef763ed1",
            "ac0e963c29584489aaf2018b867d2934",
            "dde8646d2b2b427d82138e45054f5fad",
            "10384b87cf5a4177b633840e54d65c2a",
            "d791072935064844b05c1577db52a9ed",
            "6c0efd45f4db407e87463e167648bf05",
            "a353843616d54f379962127daed514c8",
            "c6e17e36850542a2b564a2daa4c41570",
            "2d3603e3914a48df92b2243f8a00b69d",
            "23619da9266e458682a29db9cdb249f7",
            "3440e1348ee14587bda51da301568bb5",
            "542482fb52fa4072b5dc4e348d656bf9",
            "18fd45f274a3494db0290c79261e847c",
            "e7c054eff6234487b474622003da1803",
            "1497c3d82a864219ba57a9d23b7ad934",
            "68715195877c4ba3aa96f976230d3742",
            "924fb329c6fb49e2bf8b2d9590a232c4",
            "fdc468161f9940008d3cd0cf5994f24b",
            "ef5d34e604714355875f75bccbaf2b10",
            "67eae1cea43844b983419b2a06bf2119",
            "6a2aea34b79e4b3ab9dfd175cc20cadc",
            "efda0fa61a16411ba371b38c61eeceff",
            "7a850e989c2a4fb694aafe5ce4f8e014",
            "045adfe08bb448cc8c818130fcb98692",
            "b68df37858584d998c22cc147ec9e432",
            "7bf9f3ec7b6d4be3a0ac9f69b67d5f79",
            "da84d53c182d4c18bdb2524961bcff5c",
            "67e122fd0ab14879999ee53d914013ec",
            "37b8521b4c374742a8f214d0ffcae1e3",
            "e58d24301d204a15ab7fd19a7a582eb1",
            "114b3b291fd54b449598fc4a3434133a",
            "ff904a6bdbbe494bac41a04600ecc162",
            "e8e0db98c371491880e5c8ac30bb7a89",
            "e5a7348719334a17a230528748885979",
            "495d1f78df3b4c28b05a1588b8f5cb15",
            "7a59cf53c92e43a7b0bead21fae0e8a0",
            "e72186d8172e40a6aea50bcffd59ba47",
            "9020bf4b52be44fc9ecf38f77bfaf2cd",
            "35e39662f85041ec9258d43c272e289c",
            "9776b561dfe048d2927e717e3389716d",
            "31104f0f3e0a43c39a8c82c291794a20",
            "a539baec9afb49628be906211a5640e5",
            "a149986384d3414d8b97d62564180349",
            "2cbfafa0b8b348aca7f93a0df02cc0e8",
            "78c2db13ebc7423bb80b2cc241e1e419",
            "5ab682b2bfa643508c6563f31c526e02",
            "9f4b1314ddb24b52b23277069c469bc1",
            "14f05c981926441b8ee45e975e87bd1e",
            "c7d20eaa1c534fb3a9b18c8d1e200892",
            "4c09cb69471f4b88918d213a55faebc1",
            "74267980066c4af398d48f8b02b4eb1b",
            "c991fc332f854f159cacda28065553ce",
            "ac3b94d5abd64191be2482b13e727712"
          ]
        },
        "id": "5SBdtFnK5VNp",
        "outputId": "b47bb1ee-b2d1-4041-b284-dc29ac3b5b35"
      },
      "outputs": [
        {
          "name": "stderr",
          "output_type": "stream",
          "text": [
            "/usr/local/lib/python3.11/dist-packages/huggingface_hub/utils/_auth.py:94: UserWarning: \n",
            "The secret `HF_TOKEN` does not exist in your Colab secrets.\n",
            "To authenticate with the Hugging Face Hub, create a token in your settings tab (https://huggingface.co/settings/tokens), set it as secret in your Google Colab and restart your session.\n",
            "You will be able to reuse this secret in all of your notebooks.\n",
            "Please note that authentication is recommended but still optional to access public models or datasets.\n",
            "  warnings.warn(\n"
          ]
        },
        {
          "data": {
            "application/vnd.jupyter.widget-view+json": {
              "model_id": "628e6527e6ee48f39e86ffe18d1a9354",
              "version_major": 2,
              "version_minor": 0
            },
            "text/plain": [
              "tokenizer_config.json:   0%|          | 0.00/49.0 [00:00<?, ?B/s]"
            ]
          },
          "metadata": {},
          "output_type": "display_data"
        },
        {
          "data": {
            "application/vnd.jupyter.widget-view+json": {
              "model_id": "1700b04b93fa4ecb8a1e6494d58fede3",
              "version_major": 2,
              "version_minor": 0
            },
            "text/plain": [
              "config.json:   0%|          | 0.00/570 [00:00<?, ?B/s]"
            ]
          },
          "metadata": {},
          "output_type": "display_data"
        },
        {
          "data": {
            "application/vnd.jupyter.widget-view+json": {
              "model_id": "23619da9266e458682a29db9cdb249f7",
              "version_major": 2,
              "version_minor": 0
            },
            "text/plain": [
              "vocab.txt:   0%|          | 0.00/213k [00:00<?, ?B/s]"
            ]
          },
          "metadata": {},
          "output_type": "display_data"
        },
        {
          "data": {
            "application/vnd.jupyter.widget-view+json": {
              "model_id": "6a2aea34b79e4b3ab9dfd175cc20cadc",
              "version_major": 2,
              "version_minor": 0
            },
            "text/plain": [
              "tokenizer.json:   0%|          | 0.00/436k [00:00<?, ?B/s]"
            ]
          },
          "metadata": {},
          "output_type": "display_data"
        },
        {
          "data": {
            "application/vnd.jupyter.widget-view+json": {
              "model_id": "ff904a6bdbbe494bac41a04600ecc162",
              "version_major": 2,
              "version_minor": 0
            },
            "text/plain": [
              "Map:   0%|          | 0/4360 [00:00<?, ? examples/s]"
            ]
          },
          "metadata": {},
          "output_type": "display_data"
        },
        {
          "data": {
            "application/vnd.jupyter.widget-view+json": {
              "model_id": "a149986384d3414d8b97d62564180349",
              "version_major": 2,
              "version_minor": 0
            },
            "text/plain": [
              "Map:   0%|          | 0/1091 [00:00<?, ? examples/s]"
            ]
          },
          "metadata": {},
          "output_type": "display_data"
        }
      ],
      "source": [
        "train_df, val_df, label_encoder = prepare_data(final_labeled_sentences)\n",
        "train_dataset, val_dataset, tokenizer = tokenize_data(train_df, val_df)"
      ]
    },
    {
      "cell_type": "code",
      "execution_count": null,
      "metadata": {
        "colab": {
          "base_uri": "https://localhost:8080/"
        },
        "id": "OAZNos5u56dh",
        "outputId": "9fc95ecf-da53-4126-87c7-ad51b51468d5"
      },
      "outputs": [
        {
          "data": {
            "text/plain": [
              "Dataset({\n",
              "    features: ['sentence', 'labels', '__index_level_0__', 'input_ids', 'token_type_ids', 'attention_mask'],\n",
              "    num_rows: 4360\n",
              "})"
            ]
          },
          "execution_count": 13,
          "metadata": {},
          "output_type": "execute_result"
        }
      ],
      "source": [
        "train_dataset"
      ]
    },
    {
      "cell_type": "code",
      "execution_count": null,
      "metadata": {
        "colab": {
          "base_uri": "https://localhost:8080/"
        },
        "id": "If-jqePW5svQ",
        "outputId": "cf8203c0-52dc-4e5f-d98e-1d727a5f75b1"
      },
      "outputs": [
        {
          "name": "stdout",
          "output_type": "stream",
          "text": [
            "{0: 'BODY', 1: 'CLOSING', 2: 'GREETING', 3: 'SIGNATURE'}\n",
            "{'BODY': 0, 'CLOSING': 1, 'GREETING': 2, 'SIGNATURE': 3}\n"
          ]
        }
      ],
      "source": [
        "id2label = {i: l for i, l in enumerate(label_encoder.classes_)}\n",
        "label2id = {l: i for i, l in enumerate(label_encoder.classes_)}\n",
        "print(id2label)\n",
        "print(label2id)"
      ]
    },
    {
      "cell_type": "code",
      "execution_count": null,
      "metadata": {
        "colab": {
          "base_uri": "https://localhost:8080/",
          "height": 305,
          "referenced_widgets": [
            "db659246c4f642bc8dd89495bdda695d",
            "52dfcc50a47b4a94b919e8b31a90d175",
            "4b9ed69d54864e11ac64465c1f161143",
            "d78d2877f9c4456ca53eb4e96d2fec8e",
            "99acb18917034ae3b79fdd3aeb7cc957",
            "b96c3e4ab6da4f68aad4c00dacb14a73",
            "5bd1a035b7294139b81f89d74b82c525",
            "da312c43faf24164a7668f5ff93b1459",
            "2cb2738ad68c409e9a8d397a01181201",
            "32d862be7e724c0ab12b830c809d68df",
            "9d504f36f09d40cebe8507aff0519a79"
          ]
        },
        "id": "oe1daYHD6HDJ",
        "outputId": "63b8694d-548b-46bb-9203-42e258d53084"
      },
      "outputs": [
        {
          "name": "stdout",
          "output_type": "stream",
          "text": [
            "bert-base-cased\n"
          ]
        },
        {
          "data": {
            "application/vnd.jupyter.widget-view+json": {
              "model_id": "db659246c4f642bc8dd89495bdda695d",
              "version_major": 2,
              "version_minor": 0
            },
            "text/plain": [
              "model.safetensors:   0%|          | 0.00/436M [00:00<?, ?B/s]"
            ]
          },
          "metadata": {},
          "output_type": "display_data"
        },
        {
          "name": "stderr",
          "output_type": "stream",
          "text": [
            "Some weights of BertForSequenceClassification were not initialized from the model checkpoint at bert-base-cased and are newly initialized: ['classifier.bias', 'classifier.weight']\n",
            "You should probably TRAIN this model on a down-stream task to be able to use it for predictions and inference.\n",
            "Using the `WANDB_DISABLED` environment variable is deprecated and will be removed in v5. Use the --report_to flag to control the integrations used for logging result (for instance --report_to none).\n",
            "/tmp/ipython-input-4-3301086958.py:215: FutureWarning: `tokenizer` is deprecated and will be removed in version 5.0.0 for `Trainer.__init__`. Use `processing_class` instead.\n",
            "  trainer = Trainer(\n"
          ]
        },
        {
          "data": {
            "text/html": [
              "\n",
              "    <div>\n",
              "      \n",
              "      <progress value='1635' max='2180' style='width:300px; height:20px; vertical-align: middle;'></progress>\n",
              "      [1635/2180 21:48 < 07:16, 1.25 it/s, Epoch 3/4]\n",
              "    </div>\n",
              "    <table border=\"1\" class=\"dataframe\">\n",
              "  <thead>\n",
              " <tr style=\"text-align: left;\">\n",
              "      <th>Epoch</th>\n",
              "      <th>Training Loss</th>\n",
              "      <th>Validation Loss</th>\n",
              "    </tr>\n",
              "  </thead>\n",
              "  <tbody>\n",
              "    <tr>\n",
              "      <td>1</td>\n",
              "      <td>0.142300</td>\n",
              "      <td>0.105153</td>\n",
              "    </tr>\n",
              "    <tr>\n",
              "      <td>2</td>\n",
              "      <td>0.127400</td>\n",
              "      <td>0.136038</td>\n",
              "    </tr>\n",
              "    <tr>\n",
              "      <td>3</td>\n",
              "      <td>0.040400</td>\n",
              "      <td>0.128700</td>\n",
              "    </tr>\n",
              "  </tbody>\n",
              "</table><p>"
            ],
            "text/plain": [
              "<IPython.core.display.HTML object>"
            ]
          },
          "metadata": {},
          "output_type": "display_data"
        }
      ],
      "source": [
        "os.environ[\"WANDB_DISABLED\"] = \"true\"\n",
        "NUM_EPOCHS = 4\n",
        "trainer = train_model(train_dataset, val_dataset, tokenizer, len(label_encoder.classes_), id2label, label2id)"
      ]
    },
    {
      "cell_type": "code",
      "execution_count": null,
      "metadata": {
        "colab": {
          "base_uri": "https://localhost:8080/",
          "height": 644
        },
        "id": "V7rOiyxh_PCt",
        "outputId": "c6a5d23d-a2fb-4302-ebd5-c60cc3308aac"
      },
      "outputs": [
        {
          "data": {
            "text/html": [],
            "text/plain": [
              "<IPython.core.display.HTML object>"
            ]
          },
          "metadata": {},
          "output_type": "display_data"
        },
        {
          "name": "stdout",
          "output_type": "stream",
          "text": [
            "              precision    recall  f1-score   support\n",
            "\n",
            "        BODY       0.98      0.99      0.99       809\n",
            "     CLOSING       0.90      0.92      0.91       118\n",
            "    GREETING       0.98      0.98      0.98        60\n",
            "   SIGNATURE       0.97      0.85      0.90       104\n",
            "\n",
            "    accuracy                           0.97      1091\n",
            "   macro avg       0.96      0.94      0.95      1091\n",
            "weighted avg       0.97      0.97      0.97      1091\n",
            "\n"
          ]
        },
        {
          "data": {
            "image/png": "[encoded data removed]",
            "text/plain": [
              "<Figure size 640x480 with 2 Axes>"
            ]
          },
          "metadata": {},
          "output_type": "display_data"
        }
      ],
      "source": [
        "evaluate_model(trainer, val_dataset, label_encoder)"
      ]
    }
  ],
  "metadata": {
    "accelerator": "GPU",
    "colab": {
      "collapsed_sections": [
        "gNCOk73k4_Nn",
        "FfjEgshdIG90",
        "AMVupH8KMyLn",
        "p2BbIF-2M4Uo",
        "hAdsyZ0YNVhM",
        "Fihymha-Na9o",
        "eeAks00rTrnd"
      ],
      "gpuType": "T4",
      "provenance": []
    },
    "kernelspec": {
      "display_name": "Python 3",
      "name": "python3"
    },
    "language_info": {
      "name": "python"
    }
  },
  "nbformat": 4,
  "nbformat_minor": 0
}
