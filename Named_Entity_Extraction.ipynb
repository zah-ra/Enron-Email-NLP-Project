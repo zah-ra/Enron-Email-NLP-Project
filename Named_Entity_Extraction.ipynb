{
  "nbformat": 4,
  "nbformat_minor": 0,
  "metadata": {
    "colab": {
      "provenance": [],
      "gpuType": "T4"
    },
    "kernelspec": {
      "name": "python3",
      "display_name": "Python 3"
    },
    "language_info": {
      "name": "python"
    },
    "accelerator": "GPU"
  },
  "cells": [
    {
      "cell_type": "code",
      "source": [
        "pip install datasets transformers seqeval evaluate"
      ],
      "metadata": {
        "id": "RewlL07Ripx9"
      },
      "execution_count": null,
      "outputs": []
    },
    {
      "cell_type": "code",
      "execution_count": null,
      "metadata": {
        "colab": {
          "base_uri": "https://localhost:8080/"
        },
        "id": "mulNEjBHn8hP",
        "outputId": "9f61af60-1d1d-4f2d-b128-1f5f3b751976"
      },
      "outputs": [
        {
          "output_type": "stream",
          "name": "stdout",
          "text": [
            "Mounted at /content/drive\n"
          ]
        }
      ],
      "source": [
        "from google.colab import drive\n",
        "import pandas as pd\n",
        "drive.mount('/content/drive')\n",
        "data_dir = \"/content/drive/MyDrive/scaled_sentences_entities.csv\"\n",
        "sentence_entities = pd.read_csv(data_dir)"
      ]
    },
    {
      "cell_type": "markdown",
      "source": [
        "## Hugging Face Transformer `dslim/bert-base-NER`"
      ],
      "metadata": {
        "id": "eahEdy3ImRn2"
      }
    },
    {
      "cell_type": "code",
      "source": [
        "import numpy as np\n",
        "import random\n",
        "import torch\n",
        "from datasets import Dataset, DatasetDict\n",
        "from sklearn.model_selection import train_test_split\n",
        "from transformers import (\n",
        "    AutoTokenizer, AutoModelForTokenClassification, Trainer, TrainingArguments,\n",
        "    DataCollatorForTokenClassification\n",
        ")\n",
        "from seqeval.metrics import classification_report, accuracy_score, precision_score, recall_score, f1_score\n",
        "from transformers import EarlyStoppingCallback\n",
        "import os\n",
        "import ast\n",
        "\n",
        "model = \"dslim/bert-base-NER\"\n",
        "tokenizer = AutoTokenizer.from_pretrained(model)\n",
        "\n",
        "def align_tokens_with_labels(sentence, entities):\n",
        "    tokens = tokenizer.tokenize(sentence)\n",
        "    labels = ['O'] * len(tokens)\n",
        "\n",
        "    for entity_text, entity_type in entities:\n",
        "        entity_tokens = tokenizer.tokenize(entity_text)\n",
        "        for i in range(len(tokens)):\n",
        "            if tokens[i:i+len(entity_tokens)] == entity_tokens:\n",
        "                labels[i] = f'B-{entity_type}'\n",
        "                for j in range(1, len(entity_tokens)):\n",
        "                    labels[i+j] = f'I-{entity_type}'\n",
        "    return tokens, labels\n",
        "\n",
        "def safe_eval_with_index(row):\n",
        "    try:\n",
        "        return ast.literal_eval(row['entities'])\n",
        "    except Exception as e:\n",
        "        print(f\"Error in row {row.name}: {row['entities']}\\nError: {e}\")\n",
        "        return None\n",
        "\n",
        "sentence_entities['entities'] = sentence_entities.apply(safe_eval_with_index, axis=1)\n",
        "\n",
        "tokenized_data = []\n",
        "\n",
        "for _, row in sentence_entities.iterrows():\n",
        "    sentence = row['sentence']\n",
        "    entities = row['entities']\n",
        "    tokens, labels = align_tokens_with_labels(sentence, entities)\n",
        "    tokenized_data.append({\n",
        "        \"tokens\": tokens,\n",
        "        \"labels\": labels\n",
        "    })\n",
        "\n",
        "processed_df = pd.DataFrame(tokenized_data)"
      ],
      "metadata": {
        "id": "fBtccIl4qFd5",
        "colab": {
          "base_uri": "https://localhost:8080/",
          "height": 281,
          "referenced_widgets": [
            "e9881862df484bcc845f81bc731439ad",
            "9fb6874dc3544281998685ee6cdcc99e",
            "5971c051b63241ee87593e90de5ac967",
            "a8eed575d18c443ab020403a6a5cf2d0",
            "994637c6c7964121ab34525066d5106a",
            "ce86953bca2c4bf19cdf230372986c31",
            "6aa8e9fd1841408d98732724acfab7df",
            "e8781f0a94c8490c8df456269c7673fe",
            "ea53d121074c432a836baf58d3c8e808",
            "956896b8f31c4be1967e92bd0a7f7604",
            "190708897f4c435cbc8282bd787dbfeb",
            "732b60ab84ce42bdb2f5f950f6c91b44",
            "8a8e558f56694ae386c4c52ce9ea826a",
            "c9b966dede4740d7841741efc7b69572",
            "9cc37ae94fa04e9f88bf5aa8b3001f31",
            "b77c0172be5145268aece4145282f6ea",
            "44c4692663b84f3180ce6100ba9ae24a",
            "aa2ff62a1f784c889d1cdacd7e697ddd",
            "afa453e4fde845cf90cb7dd1ca4ce690",
            "51f94f2bba5b4e1f9be86539ef32a896",
            "4c2a8256b0df4ad3a5e28e22e5ac16ca",
            "7e4338e455cc4e018b6cc3d635baac50",
            "b21cb2cb1d844de1977cab0603c01de7",
            "c0405801eb8e455d9b48424420ac7331",
            "24880a66c3e94894948823b131624770",
            "a946747d43dc4296a889b7089b510cb9",
            "2af6f9f8ba11440b8a9a43ff352938c2",
            "056a4c1980444cff8ddce531a07c28d0",
            "497a00001d154b44bdaddda6088da071",
            "7f8f36caa72248368b7a887448cb33ff",
            "92db2f587b1e4872966cde27e1e943d1",
            "85c079a18f59481a87d049ad58a7ccbe",
            "a872be67da6444f1a1dd25636ef8d1a1",
            "df4d1199c18f4c3f8495116acb06ed67",
            "8001af82d28a4c9d89fd13ca799db086",
            "2743002be30b44a999db669763ce9419",
            "9f3327bfb7cd408c9c3971711cedb81f",
            "3c5e6b393d8f4a22972cd5bbf4f49260",
            "86cbd35d0a174996b15768b23a73d40e",
            "114fee8ba9f545d7869c66c0ec6adfac",
            "a54b1aea5c104792974c7e42817c62d2",
            "e226d96bd4ad426b8e2e1b3702eeb542",
            "7d3deba55b3446a697d986a8b46781e9",
            "c34223de53ed4f8c99388d9feedf0974",
            "e2472dfd9b564c8699e0d16797b24cde",
            "fd936a26abb340e8956c76624cf88b9f",
            "b6dacd5aabd24a6ebb0c27d36c895ecd",
            "07ca5beb95154000b3cdbc8a247a4b1e",
            "bdb268cc49b64b1888fff8757febfe66",
            "53be0bbbefcf42beb8bc681c71720c12",
            "badb072a46c643e4819c3e3e2bd2e99f",
            "5555565da97148568ccba1b7dd98f7d9",
            "fecd3d0ab69c432fade4b880f47b01c7",
            "1ac1301002c9474eace8a60bbb6a44b8",
            "f34a721559d74ae59e3ab1591bdee9ff"
          ]
        },
        "outputId": "7e3d6c83-a7f2-427f-be08-9da2ebd26fb9"
      },
      "execution_count": null,
      "outputs": [
        {
          "output_type": "stream",
          "name": "stderr",
          "text": [
            "/usr/local/lib/python3.11/dist-packages/huggingface_hub/utils/_auth.py:94: UserWarning: \n",
            "The secret `HF_TOKEN` does not exist in your Colab secrets.\n",
            "To authenticate with the Hugging Face Hub, create a token in your settings tab (https://huggingface.co/settings/tokens), set it as secret in your Google Colab and restart your session.\n",
            "You will be able to reuse this secret in all of your notebooks.\n",
            "Please note that authentication is recommended but still optional to access public models or datasets.\n",
            "  warnings.warn(\n"
          ]
        },
        {
          "output_type": "display_data",
          "data": {
            "text/plain": [
              "tokenizer_config.json:   0%|          | 0.00/59.0 [00:00<?, ?B/s]"
            ],
            "application/vnd.jupyter.widget-view+json": {
              "version_major": 2,
              "version_minor": 0,
              "model_id": "e9881862df484bcc845f81bc731439ad"
            }
          },
          "metadata": {}
        },
        {
          "output_type": "display_data",
          "data": {
            "text/plain": [
              "config.json:   0%|          | 0.00/829 [00:00<?, ?B/s]"
            ],
            "application/vnd.jupyter.widget-view+json": {
              "version_major": 2,
              "version_minor": 0,
              "model_id": "732b60ab84ce42bdb2f5f950f6c91b44"
            }
          },
          "metadata": {}
        },
        {
          "output_type": "display_data",
          "data": {
            "text/plain": [
              "vocab.txt: 0.00B [00:00, ?B/s]"
            ],
            "application/vnd.jupyter.widget-view+json": {
              "version_major": 2,
              "version_minor": 0,
              "model_id": "b21cb2cb1d844de1977cab0603c01de7"
            }
          },
          "metadata": {}
        },
        {
          "output_type": "display_data",
          "data": {
            "text/plain": [
              "added_tokens.json:   0%|          | 0.00/2.00 [00:00<?, ?B/s]"
            ],
            "application/vnd.jupyter.widget-view+json": {
              "version_major": 2,
              "version_minor": 0,
              "model_id": "df4d1199c18f4c3f8495116acb06ed67"
            }
          },
          "metadata": {}
        },
        {
          "output_type": "display_data",
          "data": {
            "text/plain": [
              "special_tokens_map.json:   0%|          | 0.00/112 [00:00<?, ?B/s]"
            ],
            "application/vnd.jupyter.widget-view+json": {
              "version_major": 2,
              "version_minor": 0,
              "model_id": "e2472dfd9b564c8699e0d16797b24cde"
            }
          },
          "metadata": {}
        }
      ]
    },
    {
      "cell_type": "code",
      "source": [
        "processed_df_df = processed_df.sample(frac=1, random_state=45).reset_index(drop=True)\n",
        "processed_df_df.head()"
      ],
      "metadata": {
        "collapsed": true,
        "id": "G-7Rw-a2Pxv-",
        "colab": {
          "base_uri": "https://localhost:8080/",
          "height": 206
        },
        "outputId": "8af1d19b-fc5c-4bbb-9144-4875fa88cfff"
      },
      "execution_count": null,
      "outputs": [
        {
          "output_type": "execute_result",
          "data": {
            "text/plain": [
              "                                              tokens  \\\n",
              "0  [Diana, /, Cara, ,, At, ##ta, ##ched, is, a, l...   \n",
              "1           [John, Anderson, will, be, in, at, 8, .]   \n",
              "2  [Questions, about, some, off, -, balance, shee...   \n",
              "3  [For, example, ,, we, were, the, leading, trad...   \n",
              "4  [Riverside, was, unable, to, obtain, non, -, f...   \n",
              "\n",
              "                                              labels  \n",
              "0  [B-PERSON, O, B-PERSON, O, O, O, O, O, O, O, O...  \n",
              "1        [B-PERSON, I-PERSON, O, O, O, O, B-TIME, O]  \n",
              "2  [O, O, O, O, O, O, O, O, O, O, O, O, O, O, O, ...  \n",
              "3  [O, O, O, O, O, O, O, O, O, O, O, O, O, B-GPE,...  \n",
              "4  [B-ORG, O, O, O, O, O, O, O, O, B-TIME, I-TIME...  "
            ],
            "text/html": [
              "\n",
              "  <div id=\"df-26259071-9685-422b-b040-4d8673cef690\" class=\"colab-df-container\">\n",
              "    <div>\n",
              "<style scoped>\n",
              "    .dataframe tbody tr th:only-of-type {\n",
              "        vertical-align: middle;\n",
              "    }\n",
              "\n",
              "    .dataframe tbody tr th {\n",
              "        vertical-align: top;\n",
              "    }\n",
              "\n",
              "    .dataframe thead th {\n",
              "        text-align: right;\n",
              "    }\n",
              "</style>\n",
              "<table border=\"1\" class=\"dataframe\">\n",
              "  <thead>\n",
              "    <tr style=\"text-align: right;\">\n",
              "      <th></th>\n",
              "      <th>tokens</th>\n",
              "      <th>labels</th>\n",
              "    </tr>\n",
              "  </thead>\n",
              "  <tbody>\n",
              "    <tr>\n",
              "      <th>0</th>\n",
              "      <td>[Diana, /, Cara, ,, At, ##ta, ##ched, is, a, l...</td>\n",
              "      <td>[B-PERSON, O, B-PERSON, O, O, O, O, O, O, O, O...</td>\n",
              "    </tr>\n",
              "    <tr>\n",
              "      <th>1</th>\n",
              "      <td>[John, Anderson, will, be, in, at, 8, .]</td>\n",
              "      <td>[B-PERSON, I-PERSON, O, O, O, O, B-TIME, O]</td>\n",
              "    </tr>\n",
              "    <tr>\n",
              "      <th>2</th>\n",
              "      <td>[Questions, about, some, off, -, balance, shee...</td>\n",
              "      <td>[O, O, O, O, O, O, O, O, O, O, O, O, O, O, O, ...</td>\n",
              "    </tr>\n",
              "    <tr>\n",
              "      <th>3</th>\n",
              "      <td>[For, example, ,, we, were, the, leading, trad...</td>\n",
              "      <td>[O, O, O, O, O, O, O, O, O, O, O, O, O, B-GPE,...</td>\n",
              "    </tr>\n",
              "    <tr>\n",
              "      <th>4</th>\n",
              "      <td>[Riverside, was, unable, to, obtain, non, -, f...</td>\n",
              "      <td>[B-ORG, O, O, O, O, O, O, O, O, B-TIME, I-TIME...</td>\n",
              "    </tr>\n",
              "  </tbody>\n",
              "</table>\n",
              "</div>\n",
              "    <div class=\"colab-df-buttons\">\n",
              "\n",
              "  <div class=\"colab-df-container\">\n",
              "    <button class=\"colab-df-convert\" onclick=\"convertToInteractive('df-26259071-9685-422b-b040-4d8673cef690')\"\n",
              "            title=\"Convert this dataframe to an interactive table.\"\n",
              "            style=\"display:none;\">\n",
              "\n",
              "  <svg xmlns=\"http://www.w3.org/2000/svg\" height=\"24px\" viewBox=\"0 -960 960 960\">\n",
              "    <path d=\"M120-120v-720h720v720H120Zm60-500h600v-160H180v160Zm220 220h160v-160H400v160Zm0 220h160v-160H400v160ZM180-400h160v-160H180v160Zm440 0h160v-160H620v160ZM180-180h160v-160H180v160Zm440 0h160v-160H620v160Z\"/>\n",
              "  </svg>\n",
              "    </button>\n",
              "\n",
              "  <style>\n",
              "    .colab-df-container {\n",
              "      display:flex;\n",
              "      gap: 12px;\n",
              "    }\n",
              "\n",
              "    .colab-df-convert {\n",
              "      background-color: #E8F0FE;\n",
              "      border: none;\n",
              "      border-radius: 50%;\n",
              "      cursor: pointer;\n",
              "      display: none;\n",
              "      fill: #1967D2;\n",
              "      height: 32px;\n",
              "      padding: 0 0 0 0;\n",
              "      width: 32px;\n",
              "    }\n",
              "\n",
              "    .colab-df-convert:hover {\n",
              "      background-color: #E2EBFA;\n",
              "      box-shadow: 0px 1px 2px rgba(60, 64, 67, 0.3), 0px 1px 3px 1px rgba(60, 64, 67, 0.15);\n",
              "      fill: #174EA6;\n",
              "    }\n",
              "\n",
              "    .colab-df-buttons div {\n",
              "      margin-bottom: 4px;\n",
              "    }\n",
              "\n",
              "    [theme=dark] .colab-df-convert {\n",
              "      background-color: #3B4455;\n",
              "      fill: #D2E3FC;\n",
              "    }\n",
              "\n",
              "    [theme=dark] .colab-df-convert:hover {\n",
              "      background-color: #434B5C;\n",
              "      box-shadow: 0px 1px 3px 1px rgba(0, 0, 0, 0.15);\n",
              "      filter: drop-shadow(0px 1px 2px rgba(0, 0, 0, 0.3));\n",
              "      fill: #FFFFFF;\n",
              "    }\n",
              "  </style>\n",
              "\n",
              "    <script>\n",
              "      const buttonEl =\n",
              "        document.querySelector('#df-26259071-9685-422b-b040-4d8673cef690 button.colab-df-convert');\n",
              "      buttonEl.style.display =\n",
              "        google.colab.kernel.accessAllowed ? 'block' : 'none';\n",
              "\n",
              "      async function convertToInteractive(key) {\n",
              "        const element = document.querySelector('#df-26259071-9685-422b-b040-4d8673cef690');\n",
              "        const dataTable =\n",
              "          await google.colab.kernel.invokeFunction('convertToInteractive',\n",
              "                                                    [key], {});\n",
              "        if (!dataTable) return;\n",
              "\n",
              "        const docLinkHtml = 'Like what you see? Visit the ' +\n",
              "          '<a target=\"_blank\" href=https://colab.research.google.com/notebooks/data_table.ipynb>data table notebook</a>'\n",
              "          + ' to learn more about interactive tables.';\n",
              "        element.innerHTML = '';\n",
              "        dataTable['output_type'] = 'display_data';\n",
              "        await google.colab.output.renderOutput(dataTable, element);\n",
              "        const docLink = document.createElement('div');\n",
              "        docLink.innerHTML = docLinkHtml;\n",
              "        element.appendChild(docLink);\n",
              "      }\n",
              "    </script>\n",
              "  </div>\n",
              "\n",
              "\n",
              "    <div id=\"df-2fe1c612-bc52-4838-84f8-c809d7d9d212\">\n",
              "      <button class=\"colab-df-quickchart\" onclick=\"quickchart('df-2fe1c612-bc52-4838-84f8-c809d7d9d212')\"\n",
              "                title=\"Suggest charts\"\n",
              "                style=\"display:none;\">\n",
              "\n",
              "<svg xmlns=\"http://www.w3.org/2000/svg\" height=\"24px\"viewBox=\"0 0 24 24\"\n",
              "     width=\"24px\">\n",
              "    <g>\n",
              "        <path d=\"M19 3H5c-1.1 0-2 .9-2 2v14c0 1.1.9 2 2 2h14c1.1 0 2-.9 2-2V5c0-1.1-.9-2-2-2zM9 17H7v-7h2v7zm4 0h-2V7h2v10zm4 0h-2v-4h2v4z\"/>\n",
              "    </g>\n",
              "</svg>\n",
              "      </button>\n",
              "\n",
              "<style>\n",
              "  .colab-df-quickchart {\n",
              "      --bg-color: #E8F0FE;\n",
              "      --fill-color: #1967D2;\n",
              "      --hover-bg-color: #E2EBFA;\n",
              "      --hover-fill-color: #174EA6;\n",
              "      --disabled-fill-color: #AAA;\n",
              "      --disabled-bg-color: #DDD;\n",
              "  }\n",
              "\n",
              "  [theme=dark] .colab-df-quickchart {\n",
              "      --bg-color: #3B4455;\n",
              "      --fill-color: #D2E3FC;\n",
              "      --hover-bg-color: #434B5C;\n",
              "      --hover-fill-color: #FFFFFF;\n",
              "      --disabled-bg-color: #3B4455;\n",
              "      --disabled-fill-color: #666;\n",
              "  }\n",
              "\n",
              "  .colab-df-quickchart {\n",
              "    background-color: var(--bg-color);\n",
              "    border: none;\n",
              "    border-radius: 50%;\n",
              "    cursor: pointer;\n",
              "    display: none;\n",
              "    fill: var(--fill-color);\n",
              "    height: 32px;\n",
              "    padding: 0;\n",
              "    width: 32px;\n",
              "  }\n",
              "\n",
              "  .colab-df-quickchart:hover {\n",
              "    background-color: var(--hover-bg-color);\n",
              "    box-shadow: 0 1px 2px rgba(60, 64, 67, 0.3), 0 1px 3px 1px rgba(60, 64, 67, 0.15);\n",
              "    fill: var(--button-hover-fill-color);\n",
              "  }\n",
              "\n",
              "  .colab-df-quickchart-complete:disabled,\n",
              "  .colab-df-quickchart-complete:disabled:hover {\n",
              "    background-color: var(--disabled-bg-color);\n",
              "    fill: var(--disabled-fill-color);\n",
              "    box-shadow: none;\n",
              "  }\n",
              "\n",
              "  .colab-df-spinner {\n",
              "    border: 2px solid var(--fill-color);\n",
              "    border-color: transparent;\n",
              "    border-bottom-color: var(--fill-color);\n",
              "    animation:\n",
              "      spin 1s steps(1) infinite;\n",
              "  }\n",
              "\n",
              "  @keyframes spin {\n",
              "    0% {\n",
              "      border-color: transparent;\n",
              "      border-bottom-color: var(--fill-color);\n",
              "      border-left-color: var(--fill-color);\n",
              "    }\n",
              "    20% {\n",
              "      border-color: transparent;\n",
              "      border-left-color: var(--fill-color);\n",
              "      border-top-color: var(--fill-color);\n",
              "    }\n",
              "    30% {\n",
              "      border-color: transparent;\n",
              "      border-left-color: var(--fill-color);\n",
              "      border-top-color: var(--fill-color);\n",
              "      border-right-color: var(--fill-color);\n",
              "    }\n",
              "    40% {\n",
              "      border-color: transparent;\n",
              "      border-right-color: var(--fill-color);\n",
              "      border-top-color: var(--fill-color);\n",
              "    }\n",
              "    60% {\n",
              "      border-color: transparent;\n",
              "      border-right-color: var(--fill-color);\n",
              "    }\n",
              "    80% {\n",
              "      border-color: transparent;\n",
              "      border-right-color: var(--fill-color);\n",
              "      border-bottom-color: var(--fill-color);\n",
              "    }\n",
              "    90% {\n",
              "      border-color: transparent;\n",
              "      border-bottom-color: var(--fill-color);\n",
              "    }\n",
              "  }\n",
              "</style>\n",
              "\n",
              "      <script>\n",
              "        async function quickchart(key) {\n",
              "          const quickchartButtonEl =\n",
              "            document.querySelector('#' + key + ' button');\n",
              "          quickchartButtonEl.disabled = true;  // To prevent multiple clicks.\n",
              "          quickchartButtonEl.classList.add('colab-df-spinner');\n",
              "          try {\n",
              "            const charts = await google.colab.kernel.invokeFunction(\n",
              "                'suggestCharts', [key], {});\n",
              "          } catch (error) {\n",
              "            console.error('Error during call to suggestCharts:', error);\n",
              "          }\n",
              "          quickchartButtonEl.classList.remove('colab-df-spinner');\n",
              "          quickchartButtonEl.classList.add('colab-df-quickchart-complete');\n",
              "        }\n",
              "        (() => {\n",
              "          let quickchartButtonEl =\n",
              "            document.querySelector('#df-2fe1c612-bc52-4838-84f8-c809d7d9d212 button');\n",
              "          quickchartButtonEl.style.display =\n",
              "            google.colab.kernel.accessAllowed ? 'block' : 'none';\n",
              "        })();\n",
              "      </script>\n",
              "    </div>\n",
              "\n",
              "    </div>\n",
              "  </div>\n"
            ],
            "application/vnd.google.colaboratory.intrinsic+json": {
              "type": "dataframe",
              "variable_name": "processed_df_df",
              "summary": "{\n  \"name\": \"processed_df_df\",\n  \"rows\": 1585,\n  \"fields\": [\n    {\n      \"column\": \"tokens\",\n      \"properties\": {\n        \"dtype\": \"object\",\n        \"semantic_type\": \"\",\n        \"description\": \"\"\n      }\n    },\n    {\n      \"column\": \"labels\",\n      \"properties\": {\n        \"dtype\": \"object\",\n        \"semantic_type\": \"\",\n        \"description\": \"\"\n      }\n    }\n  ]\n}"
            }
          },
          "metadata": {},
          "execution_count": 4
        }
      ]
    },
    {
      "cell_type": "code",
      "source": [
        "# --- Configuration ---\n",
        "MODEL_NAME = \"dslim/bert-base-NER\"\n",
        "NUM_EPOCHS = 5\n",
        "OUTPUT_DIR = \"./ner_model_output\"\n",
        "LOGGING_DIR = \"./logs\"\n",
        "BATCH_SIZE = 8\n",
        "WEIGHT_DECAY = 0.01\n",
        "RANDOM_STATE = 42\n",
        "TARGET_ENTITY_TYPES = {\"PERSON\", \"ORG\", \"GPE\", \"DATE\", \"TIME\", \"MONEY\"}\n",
        "\n",
        "def set_seed(seed=42):\n",
        "    random.seed(seed)\n",
        "    np.random.seed(seed)\n",
        "    torch.manual_seed(seed)\n",
        "\n",
        "def prepare_data(token_labeled_df):\n",
        "    train_df, val_df = train_test_split(\n",
        "        token_labeled_df,\n",
        "        test_size=0.2,\n",
        "        random_state=RANDOM_STATE\n",
        "    )\n",
        "    return train_df.reset_index(drop=True), val_df.reset_index(drop=True)\n",
        "\n",
        "def tokenize_and_align_labels(examples, tokenizer, label2id):\n",
        "    tokenized_inputs = tokenizer(\n",
        "        examples[\"tokens\"],\n",
        "        truncation=True,\n",
        "        is_split_into_words=True\n",
        "    )\n",
        "\n",
        "    labels = []\n",
        "    for i, label in enumerate(examples[\"labels\"]):\n",
        "        word_ids = tokenized_inputs.word_ids(batch_index=i)\n",
        "        previous_word_idx = None\n",
        "        label_ids = []\n",
        "        for word_idx in word_ids:\n",
        "            if word_idx is None:\n",
        "                label_ids.append(-100)\n",
        "            elif word_idx != previous_word_idx:\n",
        "                # Option 1: Keep the label of the previous token\n",
        "                label_ids.append(label2id[label[word_idx]])\n",
        "            else:\n",
        "                 # Option 2: Set to -100 to ignore subword tokens\n",
        "                 label_ids.append(-100)\n",
        "            previous_word_idx = word_idx\n",
        "        labels.append(label_ids)\n",
        "\n",
        "    tokenized_inputs[\"labels\"] = labels\n",
        "    return tokenized_inputs\n",
        "\n",
        "def build_label_maps(dataset):\n",
        "    all_labels = [label for row in dataset[\"labels\"] for label in row]\n",
        "    unique_labels = sorted(set(all_labels))\n",
        "    if 'O' not in unique_labels and any('O' in sublist for sublist in dataset[\"labels\"]):\n",
        "      unique_labels.append('O')\n",
        "    id2label = {i: label for i, label in enumerate(unique_labels)}\n",
        "    label2id = {label: i for i, label in id2label.items()}\n",
        "    return id2label, label2id, len(unique_labels)\n",
        "\n",
        "\n",
        "def tokenize_data(train_df, val_df, label_column=\"labels\"):\n",
        "    tokenizer = AutoTokenizer.from_pretrained(MODEL_NAME)\n",
        "    train_dataset = Dataset.from_pandas(train_df)\n",
        "    val_dataset = Dataset.from_pandas(val_df)\n",
        "    id2label, label2id, num_labels = build_label_maps(train_dataset)\n",
        "    train_dataset = train_dataset.map(\n",
        "        lambda examples: tokenize_and_align_labels(examples, tokenizer, label2id),\n",
        "        batched=True,\n",
        "        remove_columns=train_dataset.column_names\n",
        "    )\n",
        "    val_dataset = val_dataset.map(\n",
        "        lambda examples: tokenize_and_align_labels(examples, tokenizer, label2id),\n",
        "        batched=True,\n",
        "        remove_columns=val_dataset.column_names\n",
        "    )\n",
        "    return train_dataset, val_dataset, tokenizer, id2label, label2id, num_labels\n",
        "\n",
        "def compute_metrics(p, id2label):\n",
        "    predictions, labels = p\n",
        "    predictions = np.argmax(predictions, axis=2)\n",
        "\n",
        "    true_labels = [\n",
        "        [id2label[l] for l in label if l != -100]\n",
        "        for label in labels\n",
        "    ]\n",
        "    true_preds = [\n",
        "        [id2label[p] for (p, l) in zip(pred, label) if l != -100]\n",
        "        for pred, label in zip(predictions, labels)\n",
        "    ]\n",
        "\n",
        "    filtered_true = []\n",
        "    filtered_pred = []\n",
        "    for t_seq, p_seq in zip(true_labels, true_preds):\n",
        "        temp_true = []\n",
        "        temp_pred = []\n",
        "        for t, p in zip(t_seq, p_seq):\n",
        "            if t != \"O\":\n",
        "                temp_true.append(t)\n",
        "                temp_pred.append(p)\n",
        "        if temp_true:\n",
        "            filtered_true.append(temp_true)\n",
        "            filtered_pred.append(temp_pred)\n",
        "\n",
        "    return {\n",
        "        \"precision\": precision_score(filtered_true, filtered_pred),\n",
        "        \"recall\": recall_score(filtered_true, filtered_pred),\n",
        "        \"f1\": f1_score(filtered_true, filtered_pred),\n",
        "        \"accuracy\": accuracy_score(filtered_true, filtered_pred),\n",
        "    }\n",
        "\n",
        "\n",
        "def train_model(train_dataset, val_dataset, tokenizer, num_labels, id2label, label2id):\n",
        "    print(\"Training NER model with \", MODEL_NAME, ' ....\\n')\n",
        "    model = AutoModelForTokenClassification.from_pretrained(\n",
        "        MODEL_NAME,\n",
        "        num_labels=num_labels,\n",
        "        id2label=id2label,\n",
        "        label2id=label2id,\n",
        "        ignore_mismatched_sizes=True\n",
        "    )\n",
        "\n",
        "    args = TrainingArguments(\n",
        "        output_dir=OUTPUT_DIR,\n",
        "        logging_dir=LOGGING_DIR,\n",
        "        num_train_epochs=NUM_EPOCHS,\n",
        "        per_device_train_batch_size=BATCH_SIZE,\n",
        "        per_device_eval_batch_size=BATCH_SIZE,\n",
        "        weight_decay=WEIGHT_DECAY,\n",
        "        eval_strategy=\"epoch\",\n",
        "        save_strategy=\"epoch\",\n",
        "        save_total_limit=1,\n",
        "        load_best_model_at_end=True,\n",
        "        metric_for_best_model=\"eval_loss\",\n",
        "        greater_is_better=False,\n",
        "        seed=RANDOM_STATE,\n",
        "        logging_steps=10,\n",
        "        logging_first_step=True\n",
        "    )\n",
        "\n",
        "    trainer = Trainer(\n",
        "        model=model,\n",
        "        args=args,\n",
        "        train_dataset=train_dataset,\n",
        "        eval_dataset=val_dataset,\n",
        "        tokenizer=tokenizer,\n",
        "        data_collator=DataCollatorForTokenClassification(tokenizer),\n",
        "        compute_metrics=lambda p: compute_metrics(p, id2label),\n",
        "        callbacks=[EarlyStoppingCallback(early_stopping_patience=2)]\n",
        "    )\n",
        "\n",
        "    trainer.train()\n",
        "    trainer.save_model(OUTPUT_DIR)\n",
        "    tokenizer.save_pretrained(OUTPUT_DIR)\n",
        "    print(\"Model and tokenizer saved.\")\n",
        "    return trainer\n"
      ],
      "metadata": {
        "id": "tI7StPpp9BFM"
      },
      "execution_count": null,
      "outputs": []
    },
    {
      "cell_type": "code",
      "source": [
        "set_seed(RANDOM_STATE)\n",
        "train_df, val_df = prepare_data(processed_df)\n",
        "train_dataset, val_dataset, tokenizer, id2label, label2id, num_labels = tokenize_data(train_df, val_df)\n",
        "os.environ[\"WANDB_DISABLED\"] = \"true\"\n",
        "trainer = train_model(train_dataset, val_dataset, tokenizer, num_labels, id2label, label2id)"
      ],
      "metadata": {
        "id": "ETNBUF7s9LvB",
        "colab": {
          "base_uri": "https://localhost:8080/",
          "height": 542,
          "referenced_widgets": [
            "e7308ed3b2854c4aa901a8b94658ad60",
            "3a9c30997ce94d29acaa7e59be9ed5c4",
            "4b4003694f0040c69ef02199ff75582a",
            "8e70ba2cc8624d878b8d943112c9bd05",
            "2cc01f0c9ea7430fa5919fffe798cfcc",
            "c86673c2977040f3bc2dc3d567fd79a1",
            "21895693b04f4da2a921e1a3199fb432",
            "ca0cb755e33b4540abd5a7a2d26ff3a1",
            "4f784c24a06940df8631787064e26d60",
            "192eeb2c3dcb40988bdbbc82b9cfd36d",
            "ae7558f841694dc98b5f14a9a8a08a94",
            "3d8f37f1c888497b8b13a1da3c300afa",
            "40cec59b07d14183901e2d6e649de20a",
            "b915fc9cb2f2414d893f52f5d3234af8",
            "127275e8ec43436bb0693d1ed17429fa",
            "36eb684a9a954d1fbf5a386894c02752",
            "8705996594854f369afeac552c9c84fa",
            "19810425527c4620b4c77106d758791a",
            "99dc8e73ae2d4c45964d53c22d12541e",
            "f44558c965d74f7ebb870da7946ceaa2",
            "3b40ccb206c04c329ef6cf5d31a99ab5",
            "674eb2d4a6284fb7b2269fe7a6662b8a",
            "ed27facc60e84076bf262571b1696498",
            "ecadc3287c3042aba755ab739c74ce4f",
            "b5d025322d634fa186f4c5ae92fa5b03",
            "b90e77856b2f497da22297a32b0be2fd",
            "ae5ae53fe4504f6bbeba877a6767b7d4",
            "934d364b56f74dfcb31fe7c592eecddc",
            "96643870ef714250824df39d96b243ea",
            "4d011625c65a4038b3f307610dd6656f",
            "6b2b474ac3274cf280f05feb5e021444",
            "56a940fbaeba4f50adf1a5376f21c6e2",
            "312d9b69e3084f6ea3344ecbb64589f4"
          ]
        },
        "outputId": "f0f6eeb3-7b48-4fad-e591-73d58fb8237d"
      },
      "execution_count": null,
      "outputs": [
        {
          "output_type": "display_data",
          "data": {
            "text/plain": [
              "Map:   0%|          | 0/1268 [00:00<?, ? examples/s]"
            ],
            "application/vnd.jupyter.widget-view+json": {
              "version_major": 2,
              "version_minor": 0,
              "model_id": "e7308ed3b2854c4aa901a8b94658ad60"
            }
          },
          "metadata": {}
        },
        {
          "output_type": "display_data",
          "data": {
            "text/plain": [
              "Map:   0%|          | 0/317 [00:00<?, ? examples/s]"
            ],
            "application/vnd.jupyter.widget-view+json": {
              "version_major": 2,
              "version_minor": 0,
              "model_id": "3d8f37f1c888497b8b13a1da3c300afa"
            }
          },
          "metadata": {}
        },
        {
          "output_type": "stream",
          "name": "stdout",
          "text": [
            "Training NER model with  dslim/bert-base-NER  ....\n",
            "\n"
          ]
        },
        {
          "output_type": "display_data",
          "data": {
            "text/plain": [
              "model.safetensors:   0%|          | 0.00/433M [00:00<?, ?B/s]"
            ],
            "application/vnd.jupyter.widget-view+json": {
              "version_major": 2,
              "version_minor": 0,
              "model_id": "ed27facc60e84076bf262571b1696498"
            }
          },
          "metadata": {}
        },
        {
          "output_type": "stream",
          "name": "stderr",
          "text": [
            "Some weights of the model checkpoint at dslim/bert-base-NER were not used when initializing BertForTokenClassification: ['bert.pooler.dense.bias', 'bert.pooler.dense.weight']\n",
            "- This IS expected if you are initializing BertForTokenClassification from the checkpoint of a model trained on another task or with another architecture (e.g. initializing a BertForSequenceClassification model from a BertForPreTraining model).\n",
            "- This IS NOT expected if you are initializing BertForTokenClassification from the checkpoint of a model that you expect to be exactly identical (initializing a BertForSequenceClassification model from a BertForSequenceClassification model).\n",
            "Some weights of BertForTokenClassification were not initialized from the model checkpoint at dslim/bert-base-NER and are newly initialized because the shapes did not match:\n",
            "- classifier.bias: found shape torch.Size([9]) in the checkpoint and torch.Size([15]) in the model instantiated\n",
            "- classifier.weight: found shape torch.Size([9, 768]) in the checkpoint and torch.Size([15, 768]) in the model instantiated\n",
            "You should probably TRAIN this model on a down-stream task to be able to use it for predictions and inference.\n",
            "Using the `WANDB_DISABLED` environment variable is deprecated and will be removed in v5. Use the --report_to flag to control the integrations used for logging result (for instance --report_to none).\n",
            "/tmp/ipython-input-5-1283235997.py:140: FutureWarning: `tokenizer` is deprecated and will be removed in version 5.0.0 for `Trainer.__init__`. Use `processing_class` instead.\n",
            "  trainer = Trainer(\n"
          ]
        },
        {
          "output_type": "display_data",
          "data": {
            "text/plain": [
              "<IPython.core.display.HTML object>"
            ],
            "text/html": [
              "\n",
              "    <div>\n",
              "      \n",
              "      <progress value='636' max='795' style='width:300px; height:20px; vertical-align: middle;'></progress>\n",
              "      [636/795 03:22 < 00:50, 3.13 it/s, Epoch 4/5]\n",
              "    </div>\n",
              "    <table border=\"1\" class=\"dataframe\">\n",
              "  <thead>\n",
              " <tr style=\"text-align: left;\">\n",
              "      <th>Epoch</th>\n",
              "      <th>Training Loss</th>\n",
              "      <th>Validation Loss</th>\n",
              "      <th>Precision</th>\n",
              "      <th>Recall</th>\n",
              "      <th>F1</th>\n",
              "      <th>Accuracy</th>\n",
              "    </tr>\n",
              "  </thead>\n",
              "  <tbody>\n",
              "    <tr>\n",
              "      <td>1</td>\n",
              "      <td>0.291000</td>\n",
              "      <td>0.231014</td>\n",
              "      <td>0.771626</td>\n",
              "      <td>0.763045</td>\n",
              "      <td>0.767312</td>\n",
              "      <td>0.803107</td>\n",
              "    </tr>\n",
              "    <tr>\n",
              "      <td>2</td>\n",
              "      <td>0.178100</td>\n",
              "      <td>0.219260</td>\n",
              "      <td>0.831665</td>\n",
              "      <td>0.781865</td>\n",
              "      <td>0.805996</td>\n",
              "      <td>0.822720</td>\n",
              "    </tr>\n",
              "    <tr>\n",
              "      <td>3</td>\n",
              "      <td>0.111000</td>\n",
              "      <td>0.219318</td>\n",
              "      <td>0.833190</td>\n",
              "      <td>0.828914</td>\n",
              "      <td>0.831046</td>\n",
              "      <td>0.880795</td>\n",
              "    </tr>\n",
              "    <tr>\n",
              "      <td>4</td>\n",
              "      <td>0.054700</td>\n",
              "      <td>0.237316</td>\n",
              "      <td>0.829141</td>\n",
              "      <td>0.817793</td>\n",
              "      <td>0.823428</td>\n",
              "      <td>0.863474</td>\n",
              "    </tr>\n",
              "  </tbody>\n",
              "</table><p>"
            ]
          },
          "metadata": {}
        },
        {
          "output_type": "stream",
          "name": "stdout",
          "text": [
            "Model and tokenizer saved.\n"
          ]
        }
      ]
    },
    {
      "cell_type": "code",
      "source": [
        "from sklearn.metrics import confusion_matrix, ConfusionMatrixDisplay\n",
        "import matplotlib.pyplot as plt\n",
        "import numpy as np\n",
        "from transformers.trainer_utils import EvalPrediction\n",
        "from seqeval.metrics import classification_report, accuracy_score, precision_score, recall_score, f1_score\n",
        "from seqeval.metrics.sequence_labeling import get_entities\n",
        "\n",
        "def evaluate_model_with_matrix(trainer, val_dataset, id2label):\n",
        "    print(\"Running evaluation on validation set...\")\n",
        "    outputs = trainer.predict(val_dataset)\n",
        "\n",
        "    prediction_obj = EvalPrediction(\n",
        "        predictions=outputs.predictions,\n",
        "        label_ids=outputs.label_ids,\n",
        "    )\n",
        "\n",
        "    metrics = compute_metrics(prediction_obj, id2label)\n",
        "\n",
        "    predictions = np.argmax(outputs.predictions, axis=2)\n",
        "    labels = outputs.label_ids\n",
        "\n",
        "    true_labels = [\n",
        "        [id2label[l] for l in label if l != -100]\n",
        "        for label in labels\n",
        "    ]\n",
        "    true_preds = [\n",
        "        [id2label[p] for (p, l) in zip(pred, label) if l != -100]\n",
        "        for pred, label in zip(predictions, labels)\n",
        "    ]\n",
        "\n",
        "    print(\"\\nClassification Report (Excluding 'O'):\")\n",
        "\n",
        "    filtered_true = []\n",
        "    filtered_pred = []\n",
        "    for seq_true, seq_pred in zip(true_labels, true_preds):\n",
        "        temp_true, temp_pred = [], []\n",
        "        for t, p in zip(seq_true, seq_pred):\n",
        "            if t != 'O':\n",
        "                temp_true.append(t)\n",
        "                temp_pred.append(p)\n",
        "        if temp_true:\n",
        "            filtered_true.append(temp_true)\n",
        "            filtered_pred.append(temp_pred)\n",
        "\n",
        "    # entity-level classification report\n",
        "    print(classification_report(filtered_true, filtered_pred, digits=3))\n",
        "\n",
        "    true_entities = [get_entities(seq) for seq in filtered_true]\n",
        "    pred_entities = [get_entities(seq) for seq in filtered_pred]\n",
        "\n",
        "    true_flat = [ent[0] for seq in true_entities for ent in seq]\n",
        "    pred_flat = [ent[0] for seq in pred_entities for ent in seq]\n",
        "\n",
        "    entity_labels = sorted(set(true_flat + pred_flat))\n",
        "\n",
        "    conf_matrix_df = pd.crosstab(\n",
        "        pd.Series(true_flat, name=\"True\"),\n",
        "        pd.Series(pred_flat, name=\"Predicted\"),\n",
        "        rownames=[\"True\"],\n",
        "        colnames=[\"Predicted\"],\n",
        "        dropna=False\n",
        "    ).reindex(index=entity_labels, columns=entity_labels, fill_value=0)\n",
        "\n",
        "    plt.figure(figsize=(8, 6))\n",
        "    disp = ConfusionMatrixDisplay(confusion_matrix=conf_matrix_df.values, display_labels=entity_labels)\n",
        "    disp.plot(xticks_rotation=90, cmap=\"viridis\")\n",
        "    plt.title(\"Entity-Level Confusion Matrix\")\n",
        "    plt.tight_layout()\n",
        "    plt.show()\n",
        "\n",
        "    return metrics\n"
      ],
      "metadata": {
        "id": "iMYUSBL5ZaC6"
      },
      "execution_count": null,
      "outputs": []
    },
    {
      "cell_type": "code",
      "source": [
        "import warnings\n",
        "from seqeval.metrics import sequence_labeling\n",
        "\n",
        "warnings.filterwarnings(\"ignore\", category=UserWarning, module='seqeval.metrics.sequence_labeling')\n",
        "\n",
        "metrics = evaluate_model_with_matrix(trainer, val_dataset, id2label)\n",
        "print(\"\\nFinal Evaluation Metrics:\")\n",
        "for metric, value in metrics.items():\n",
        "    print(f\"{metric}: {value:.4f}\")"
      ],
      "metadata": {
        "colab": {
          "base_uri": "https://localhost:8080/",
          "height": 886
        },
        "id": "zBZWz1v_Zqon",
        "outputId": "44c7861d-4f2b-47e4-8d16-9e60384edd58"
      },
      "execution_count": null,
      "outputs": [
        {
          "output_type": "stream",
          "name": "stdout",
          "text": [
            "Running evaluation on validation set...\n"
          ]
        },
        {
          "output_type": "display_data",
          "data": {
            "text/plain": [
              "<IPython.core.display.HTML object>"
            ],
            "text/html": []
          },
          "metadata": {}
        },
        {
          "output_type": "stream",
          "name": "stdout",
          "text": [
            "\n",
            "Classification Report (Excluding 'O'):\n",
            "              precision    recall  f1-score   support\n",
            "\n",
            "        DATE      0.823     0.863     0.842       226\n",
            "         GPE      0.930     0.757     0.835        70\n",
            "       MONEY      0.891     0.840     0.865       194\n",
            "         ORG      0.839     0.727     0.779       373\n",
            "      PERSON      0.838     0.798     0.817       168\n",
            "        TIME      0.705     0.710     0.708       138\n",
            "\n",
            "   micro avg      0.832     0.782     0.806      1169\n",
            "   macro avg      0.837     0.782     0.808      1169\n",
            "weighted avg      0.834     0.782     0.806      1169\n",
            "\n"
          ]
        },
        {
          "output_type": "display_data",
          "data": {
            "text/plain": [
              "<Figure size 800x600 with 0 Axes>"
            ]
          },
          "metadata": {}
        },
        {
          "output_type": "display_data",
          "data": {
            "text/plain": [
              "<Figure size 640x480 with 2 Axes>"
            ],
            "image/png": "[encoded data removed]"
          },
          "metadata": {}
        },
        {
          "output_type": "stream",
          "name": "stdout",
          "text": [
            "\n",
            "Final Evaluation Metrics:\n",
            "precision: 0.8317\n",
            "recall: 0.7819\n",
            "f1: 0.8060\n",
            "accuracy: 0.8227\n"
          ]
        }
      ]
    },
    {
      "cell_type": "markdown",
      "source": [
        "## Masked Language Modeling (MLM)"
      ],
      "metadata": {
        "id": "6vcuTcHvzs0e"
      }
    },
    {
      "cell_type": "code",
      "source": [
        "from transformers import (\n",
        "    BertTokenizerFast,\n",
        "    BertForMaskedLM,\n",
        "    DataCollatorForLanguageModeling,\n",
        "    Trainer,\n",
        "    TrainingArguments\n",
        ")\n",
        "from datasets import Dataset\n",
        "import torch\n",
        "import math\n",
        "import os\n",
        "import pandas as pd\n",
        "\n",
        "sentences_mask = pd.read_csv(\"/content/drive/MyDrive/sentence_entities.csv\")\n",
        "sentences_mask = sentences_mask[7000:19000]\n",
        "sentences_mask.reset_index(drop=True, inplace=True)"
      ],
      "metadata": {
        "id": "AlHxpDIXzzSB"
      },
      "execution_count": null,
      "outputs": []
    },
    {
      "cell_type": "code",
      "source": [
        "tokenizer = BertTokenizerFast.from_pretrained(\"bert-base-cased\")\n",
        "\n",
        "def tokenize_function(examples):\n",
        "    return tokenizer(examples[\"sentence\"], truncation=True, padding=\"max_length\", max_length=128)\n",
        "\n",
        "hf_dataset = Dataset.from_pandas(sentences_mask)\n",
        "\n",
        "tokenized_dataset = hf_dataset.map(tokenize_function, batched=True, remove_columns=[\"sentence\"])\n",
        "\n",
        "data_collator = DataCollatorForLanguageModeling(\n",
        "    tokenizer=tokenizer,\n",
        "    mlm=True,\n",
        "    mlm_probability=0.15\n",
        ")\n"
      ],
      "metadata": {
        "colab": {
          "base_uri": "https://localhost:8080/",
          "height": 177,
          "referenced_widgets": [
            "1db8ca5f25d444cb96c1982eec9d1e30",
            "af0ce2f41123430781044afae5f85391",
            "c9924c35e08f43a88f4262fe0b09b04e",
            "da3a7af6a1c5439b9df45cee72632778",
            "e1233344e8f44693921206de1fef5fe0",
            "e44430e23a1b4c7a9cccdb7b308420e1",
            "1e354ee9990e4dff827b403a4871cf2e",
            "4a228146f392473899ea7dea83fe2489",
            "0820d13a75eb4e8fb80a1c760e5bf730",
            "748a07e77dc54b7e8d6805bb164a2374",
            "cc34e2155ac64346b5761072e32ce8e7",
            "124b6b226e62416189b6fb79d21ad8e8",
            "aba9e487dca4400489b39010b81faa09",
            "4cbf1a08ceff4d5e89072ad725bfdf7d",
            "7cd0b3d008974f6bb7fbf06f77a9d1dd",
            "01198cee07344bb38e00a211bb41f19b",
            "72d6050c7b26497e935c270e9f33e913",
            "124b152cb09841ac89e615d54cecf9f5",
            "eb89c667d134426b8552b5671fe57ef6",
            "6ece75e364ab40a6b43b62c02e25a368",
            "9e367478731e4d6baf37105683bc4f0b",
            "97bd5bfdfdc8440a861d8337ef8b18d8",
            "33331b7a64164951a077afe83cc204fd",
            "d835a3cb97da4fa2a831b9d5bab1b28d",
            "ea232ca853e7446984c35d52b4a76908",
            "23d495df55924174adce06b49ab1fa89",
            "7a890ba98f5d4d34b4d4b1f0955a7024",
            "df9f69f0303a422591b0b50308e8dda3",
            "fd9dd4adca0b4d2c8e1aae42763e5bc2",
            "6fa979675df74c01bf9c8cbfee032e4b",
            "2c967620ba1c482dbe42bf2e9c92ef31",
            "5cf1c7e3803c4167a7aab1e0f2ed660d",
            "eb89cd7adfc8499493e8eef14ad1f443",
            "f045c68cad2c43e2b9273054b54b5a55",
            "28d921a473964bdb871384be3d0a2526",
            "da1c6e214900457bb2c593219dae5a56",
            "8671b27404114c32905238adc093a549",
            "b436b07d17014ec49c968eb072cbb005",
            "db8b7933045442c4b494a254aa3ec56a",
            "8d4a3efc41f34f7d89c2be264fe8d1a2",
            "ae1886ff921642f8a7da356d7a2529e4",
            "27f8ea015cd4430ea16a23059095be3e",
            "f925684f44ea4729aeb55277b6a0258a",
            "c2c01eb55cf143deb7797d1c0d9fd684",
            "59909ec6ef4a4890b5d356fbce420365",
            "0c6b86849e8c4fa69c64882f5b83f07f",
            "5c362d438a024cd39cf889fea299b4c4",
            "325a989b0830489dbb52de9268b56584",
            "c00d63e627e74261a44cf301737e007a",
            "1dd9bb8b197b4c48b086290697d55fe9",
            "5976a236c00d48028da481b00b2c12c4",
            "cb6c9209dfca44cc978f5252cbd6ec23",
            "e57f0628479e48baa4148661006faefd",
            "c59ca360d85c4680857448140175a689",
            "44b8a642ef3b46cf93fd3495db266237"
          ]
        },
        "id": "I7ggpWIu1y1W",
        "outputId": "cd0e613b-f044-494d-f6ee-08aca6585e99"
      },
      "execution_count": null,
      "outputs": [
        {
          "output_type": "display_data",
          "data": {
            "text/plain": [
              "tokenizer_config.json:   0%|          | 0.00/49.0 [00:00<?, ?B/s]"
            ],
            "application/vnd.jupyter.widget-view+json": {
              "version_major": 2,
              "version_minor": 0,
              "model_id": "1db8ca5f25d444cb96c1982eec9d1e30"
            }
          },
          "metadata": {}
        },
        {
          "output_type": "display_data",
          "data": {
            "text/plain": [
              "vocab.txt:   0%|          | 0.00/213k [00:00<?, ?B/s]"
            ],
            "application/vnd.jupyter.widget-view+json": {
              "version_major": 2,
              "version_minor": 0,
              "model_id": "124b6b226e62416189b6fb79d21ad8e8"
            }
          },
          "metadata": {}
        },
        {
          "output_type": "display_data",
          "data": {
            "text/plain": [
              "tokenizer.json:   0%|          | 0.00/436k [00:00<?, ?B/s]"
            ],
            "application/vnd.jupyter.widget-view+json": {
              "version_major": 2,
              "version_minor": 0,
              "model_id": "33331b7a64164951a077afe83cc204fd"
            }
          },
          "metadata": {}
        },
        {
          "output_type": "display_data",
          "data": {
            "text/plain": [
              "config.json:   0%|          | 0.00/570 [00:00<?, ?B/s]"
            ],
            "application/vnd.jupyter.widget-view+json": {
              "version_major": 2,
              "version_minor": 0,
              "model_id": "f045c68cad2c43e2b9273054b54b5a55"
            }
          },
          "metadata": {}
        },
        {
          "output_type": "display_data",
          "data": {
            "text/plain": [
              "Map:   0%|          | 0/12000 [00:00<?, ? examples/s]"
            ],
            "application/vnd.jupyter.widget-view+json": {
              "version_major": 2,
              "version_minor": 0,
              "model_id": "59909ec6ef4a4890b5d356fbce420365"
            }
          },
          "metadata": {}
        }
      ]
    },
    {
      "cell_type": "code",
      "source": [
        "os.environ[\"WANDB_DISABLED\"] = \"true\"\n",
        "model = BertForMaskedLM.from_pretrained(\"bert-base-cased\")\n",
        "training_args = TrainingArguments(\n",
        "    output_dir=\"./mlm-enron-bert-base\",\n",
        "    overwrite_output_dir=True,\n",
        "    num_train_epochs=3,\n",
        "    per_device_train_batch_size=16,\n",
        "    save_steps=500,\n",
        "    save_total_limit=1,\n",
        "    logging_steps=100,\n",
        "    eval_strategy=\"no\",\n",
        "    seed=42\n",
        ")\n",
        "\n",
        "trainer = Trainer(\n",
        "    model=model,\n",
        "    args=training_args,\n",
        "    train_dataset=tokenized_dataset,\n",
        "    tokenizer=tokenizer,\n",
        "    data_collator=data_collator\n",
        ")\n",
        "\n",
        "\n",
        "trainer.train()\n"
      ],
      "metadata": {
        "collapsed": true,
        "id": "4bR7ZUBD198a",
        "colab": {
          "base_uri": "https://localhost:8080/",
          "height": 936,
          "referenced_widgets": [
            "eb0c8c2e2d9b4a04bc61d56ed1f43a5a",
            "ec7dc692a2d54f03a5286a5008cbbf85",
            "f04ada5b7c1c4d0a8412a2fdcdaf0c45",
            "50f2e6251168482e9526949be53ae275",
            "54f26a0da423456cb4d4eb8e289bca61",
            "9b4d353cda694866b069803324533c75",
            "587d711d54bd4f15b4a59d9019626acc",
            "493e055216f14451b46791a2b4935bf4",
            "30ebe916325942868ffe4852219616b1",
            "cf42fa91ec6145e2b49be2dc2b2d924d",
            "3327ecb7513740be8fe68eca8ddfcb63"
          ]
        },
        "outputId": "b7d6532d-3f1e-48a0-84b9-56f2baae2cad"
      },
      "execution_count": null,
      "outputs": [
        {
          "output_type": "display_data",
          "data": {
            "text/plain": [
              "model.safetensors:   0%|          | 0.00/436M [00:00<?, ?B/s]"
            ],
            "application/vnd.jupyter.widget-view+json": {
              "version_major": 2,
              "version_minor": 0,
              "model_id": "eb0c8c2e2d9b4a04bc61d56ed1f43a5a"
            }
          },
          "metadata": {}
        },
        {
          "output_type": "stream",
          "name": "stderr",
          "text": [
            "Some weights of the model checkpoint at bert-base-cased were not used when initializing BertForMaskedLM: ['bert.pooler.dense.bias', 'bert.pooler.dense.weight', 'cls.seq_relationship.bias', 'cls.seq_relationship.weight']\n",
            "- This IS expected if you are initializing BertForMaskedLM from the checkpoint of a model trained on another task or with another architecture (e.g. initializing a BertForSequenceClassification model from a BertForPreTraining model).\n",
            "- This IS NOT expected if you are initializing BertForMaskedLM from the checkpoint of a model that you expect to be exactly identical (initializing a BertForSequenceClassification model from a BertForSequenceClassification model).\n",
            "Using the `WANDB_DISABLED` environment variable is deprecated and will be removed in v5. Use the --report_to flag to control the integrations used for logging result (for instance --report_to none).\n",
            "/tmp/ipython-input-9-1872887808.py:15: FutureWarning: `tokenizer` is deprecated and will be removed in version 5.0.0 for `Trainer.__init__`. Use `processing_class` instead.\n",
            "  trainer = Trainer(\n"
          ]
        },
        {
          "output_type": "display_data",
          "data": {
            "text/plain": [
              "<IPython.core.display.HTML object>"
            ],
            "text/html": [
              "\n",
              "    <div>\n",
              "      \n",
              "      <progress value='2250' max='2250' style='width:300px; height:20px; vertical-align: middle;'></progress>\n",
              "      [2250/2250 17:06, Epoch 3/3]\n",
              "    </div>\n",
              "    <table border=\"1\" class=\"dataframe\">\n",
              "  <thead>\n",
              " <tr style=\"text-align: left;\">\n",
              "      <th>Step</th>\n",
              "      <th>Training Loss</th>\n",
              "    </tr>\n",
              "  </thead>\n",
              "  <tbody>\n",
              "    <tr>\n",
              "      <td>100</td>\n",
              "      <td>2.734600</td>\n",
              "    </tr>\n",
              "    <tr>\n",
              "      <td>200</td>\n",
              "      <td>2.603400</td>\n",
              "    </tr>\n",
              "    <tr>\n",
              "      <td>300</td>\n",
              "      <td>2.528200</td>\n",
              "    </tr>\n",
              "    <tr>\n",
              "      <td>400</td>\n",
              "      <td>2.462300</td>\n",
              "    </tr>\n",
              "    <tr>\n",
              "      <td>500</td>\n",
              "      <td>2.519500</td>\n",
              "    </tr>\n",
              "    <tr>\n",
              "      <td>600</td>\n",
              "      <td>2.464200</td>\n",
              "    </tr>\n",
              "    <tr>\n",
              "      <td>700</td>\n",
              "      <td>2.471100</td>\n",
              "    </tr>\n",
              "    <tr>\n",
              "      <td>800</td>\n",
              "      <td>2.329900</td>\n",
              "    </tr>\n",
              "    <tr>\n",
              "      <td>900</td>\n",
              "      <td>2.269400</td>\n",
              "    </tr>\n",
              "    <tr>\n",
              "      <td>1000</td>\n",
              "      <td>2.234700</td>\n",
              "    </tr>\n",
              "    <tr>\n",
              "      <td>1100</td>\n",
              "      <td>2.254600</td>\n",
              "    </tr>\n",
              "    <tr>\n",
              "      <td>1200</td>\n",
              "      <td>2.289400</td>\n",
              "    </tr>\n",
              "    <tr>\n",
              "      <td>1300</td>\n",
              "      <td>2.256900</td>\n",
              "    </tr>\n",
              "    <tr>\n",
              "      <td>1400</td>\n",
              "      <td>2.284500</td>\n",
              "    </tr>\n",
              "    <tr>\n",
              "      <td>1500</td>\n",
              "      <td>2.252700</td>\n",
              "    </tr>\n",
              "    <tr>\n",
              "      <td>1600</td>\n",
              "      <td>2.219500</td>\n",
              "    </tr>\n",
              "    <tr>\n",
              "      <td>1700</td>\n",
              "      <td>2.193100</td>\n",
              "    </tr>\n",
              "    <tr>\n",
              "      <td>1800</td>\n",
              "      <td>2.047200</td>\n",
              "    </tr>\n",
              "    <tr>\n",
              "      <td>1900</td>\n",
              "      <td>2.223300</td>\n",
              "    </tr>\n",
              "    <tr>\n",
              "      <td>2000</td>\n",
              "      <td>2.102100</td>\n",
              "    </tr>\n",
              "    <tr>\n",
              "      <td>2100</td>\n",
              "      <td>2.147700</td>\n",
              "    </tr>\n",
              "    <tr>\n",
              "      <td>2200</td>\n",
              "      <td>2.157100</td>\n",
              "    </tr>\n",
              "  </tbody>\n",
              "</table><p>"
            ]
          },
          "metadata": {}
        },
        {
          "output_type": "execute_result",
          "data": {
            "text/plain": [
              "TrainOutput(global_step=2250, training_loss=2.3159077996148003, metrics={'train_runtime': 1027.091, 'train_samples_per_second': 35.05, 'train_steps_per_second': 2.191, 'total_flos': 2368801124352000.0, 'train_loss': 2.3159077996148003, 'epoch': 3.0})"
            ]
          },
          "metadata": {},
          "execution_count": 9
        }
      ]
    },
    {
      "cell_type": "code",
      "source": [
        "trainer.save_model(\"mlm-enron-bert-base\")\n",
        "tokenizer.save_pretrained(\"mlm-enron-bert-base\")"
      ],
      "metadata": {
        "colab": {
          "base_uri": "https://localhost:8080/"
        },
        "id": "KDz8g_x-2JbU",
        "outputId": "43d268db-8295-4e98-970f-2894837b4ef7"
      },
      "execution_count": null,
      "outputs": [
        {
          "output_type": "execute_result",
          "data": {
            "text/plain": [
              "('mlm-enron-bert-base/tokenizer_config.json',\n",
              " 'mlm-enron-bert-base/special_tokens_map.json',\n",
              " 'mlm-enron-bert-base/vocab.txt',\n",
              " 'mlm-enron-bert-base/added_tokens.json',\n",
              " 'mlm-enron-bert-base/tokenizer.json')"
            ]
          },
          "metadata": {},
          "execution_count": 10
        }
      ]
    },
    {
      "cell_type": "code",
      "source": [
        "# load for NER fine-tuning\n",
        "from transformers import AutoModelForTokenClassification\n",
        "MODEL_NAME = \"./mlm-enron-bert-base\"\n",
        "OUTPUT_DIR = \"./mlm_ner_model_output\"\n",
        "set_seed(RANDOM_STATE)\n",
        "train_df_mlm, val_df_mlm = prepare_data(processed_df)\n",
        "train_dataset_mlm, val_dataset_mlm, tokenizer_mlm, id2label_mlm, label2id_mlm, num_labels_mlm = tokenize_data(train_df_mlm, val_df_mlm)\n",
        "os.environ[\"WANDB_DISABLED\"] = \"true\"\n",
        "trainer_2 = train_model(train_dataset_mlm, val_dataset_mlm, tokenizer_mlm, num_labels_mlm, id2label_mlm, label2id_mlm)\n"
      ],
      "metadata": {
        "colab": {
          "base_uri": "https://localhost:8080/",
          "height": 435,
          "referenced_widgets": [
            "1f1171826db340f9a6f1bfbc7fdf01db",
            "034a45e558824f0691adb8850e0fa769",
            "8dbeca9017ce483598f645f473bc193f",
            "d7e93ae3d8a54c0d9220de90066b698d",
            "3447e98b7aad40008fdd7047d9194bef",
            "8b1be5130d0244ce83f2ed0a30793d25",
            "9ffcd47b71fa4d6382c83c8acb1c28f3",
            "06c254423cbf48f9be875f4bd82be823",
            "eb5904f9e1f448b3bfe9d544d31dbadf",
            "b4e2e350ce6f4caeaca8851fc5ed9d0a",
            "04911390b8ec4e01b88ac653e3efcd31",
            "59fa9433facd4cce84f9417e29781609",
            "67dcbb0d490e42299fb1bbd828fc4e5c",
            "3e2f72dbaa4845909c0d057847e11716",
            "994d00fc45bf46ffac4c5ba31ec4f4aa",
            "3900ca4eb5bc4297bb67adcc35e44a61",
            "9691846eeed34997922fe81a4d83fa09",
            "09ee8b64eee04a47a6fe42ac10f91a8d",
            "198e5773e43b4f81b4a5f5756689bd71",
            "97f2bff45fda425c9778cf5c7f8f060d",
            "2a14b6285d9e4ae29f1e15c0ba01e9f3",
            "7b035c8421464611af198dbc868aad51"
          ]
        },
        "id": "X_ZAi6wp2QVe",
        "outputId": "5d45d2cc-e837-459b-bc64-3c3de1ecd649"
      },
      "execution_count": null,
      "outputs": [
        {
          "output_type": "display_data",
          "data": {
            "text/plain": [
              "Map:   0%|          | 0/1268 [00:00<?, ? examples/s]"
            ],
            "application/vnd.jupyter.widget-view+json": {
              "version_major": 2,
              "version_minor": 0,
              "model_id": "1f1171826db340f9a6f1bfbc7fdf01db"
            }
          },
          "metadata": {}
        },
        {
          "output_type": "display_data",
          "data": {
            "text/plain": [
              "Map:   0%|          | 0/317 [00:00<?, ? examples/s]"
            ],
            "application/vnd.jupyter.widget-view+json": {
              "version_major": 2,
              "version_minor": 0,
              "model_id": "59fa9433facd4cce84f9417e29781609"
            }
          },
          "metadata": {}
        },
        {
          "output_type": "stream",
          "name": "stderr",
          "text": [
            "Some weights of BertForTokenClassification were not initialized from the model checkpoint at ./mlm-enron-bert-base and are newly initialized: ['classifier.bias', 'classifier.weight']\n",
            "You should probably TRAIN this model on a down-stream task to be able to use it for predictions and inference.\n",
            "Using the `WANDB_DISABLED` environment variable is deprecated and will be removed in v5. Use the --report_to flag to control the integrations used for logging result (for instance --report_to none).\n"
          ]
        },
        {
          "output_type": "stream",
          "name": "stdout",
          "text": [
            "Training NER model with  ./mlm-enron-bert-base  ....\n",
            "\n"
          ]
        },
        {
          "output_type": "stream",
          "name": "stderr",
          "text": [
            "/tmp/ipython-input-5-1283235997.py:140: FutureWarning: `tokenizer` is deprecated and will be removed in version 5.0.0 for `Trainer.__init__`. Use `processing_class` instead.\n",
            "  trainer = Trainer(\n"
          ]
        },
        {
          "output_type": "display_data",
          "data": {
            "text/plain": [
              "<IPython.core.display.HTML object>"
            ],
            "text/html": [
              "\n",
              "    <div>\n",
              "      \n",
              "      <progress value='795' max='795' style='width:300px; height:20px; vertical-align: middle;'></progress>\n",
              "      [795/795 04:24, Epoch 5/5]\n",
              "    </div>\n",
              "    <table border=\"1\" class=\"dataframe\">\n",
              "  <thead>\n",
              " <tr style=\"text-align: left;\">\n",
              "      <th>Epoch</th>\n",
              "      <th>Training Loss</th>\n",
              "      <th>Validation Loss</th>\n",
              "      <th>Precision</th>\n",
              "      <th>Recall</th>\n",
              "      <th>F1</th>\n",
              "      <th>Accuracy</th>\n",
              "    </tr>\n",
              "  </thead>\n",
              "  <tbody>\n",
              "    <tr>\n",
              "      <td>1</td>\n",
              "      <td>0.292800</td>\n",
              "      <td>0.229280</td>\n",
              "      <td>0.746018</td>\n",
              "      <td>0.761334</td>\n",
              "      <td>0.753599</td>\n",
              "      <td>0.813296</td>\n",
              "    </tr>\n",
              "    <tr>\n",
              "      <td>2</td>\n",
              "      <td>0.192100</td>\n",
              "      <td>0.205704</td>\n",
              "      <td>0.811943</td>\n",
              "      <td>0.779299</td>\n",
              "      <td>0.795286</td>\n",
              "      <td>0.828069</td>\n",
              "    </tr>\n",
              "    <tr>\n",
              "      <td>3</td>\n",
              "      <td>0.115000</td>\n",
              "      <td>0.201817</td>\n",
              "      <td>0.824936</td>\n",
              "      <td>0.826347</td>\n",
              "      <td>0.825641</td>\n",
              "      <td>0.881049</td>\n",
              "    </tr>\n",
              "    <tr>\n",
              "      <td>4</td>\n",
              "      <td>0.044900</td>\n",
              "      <td>0.224206</td>\n",
              "      <td>0.828821</td>\n",
              "      <td>0.811805</td>\n",
              "      <td>0.820225</td>\n",
              "      <td>0.864493</td>\n",
              "    </tr>\n",
              "    <tr>\n",
              "      <td>5</td>\n",
              "      <td>0.075400</td>\n",
              "      <td>0.238648</td>\n",
              "      <td>0.823176</td>\n",
              "      <td>0.820359</td>\n",
              "      <td>0.821765</td>\n",
              "      <td>0.874172</td>\n",
              "    </tr>\n",
              "  </tbody>\n",
              "</table><p>"
            ]
          },
          "metadata": {}
        },
        {
          "output_type": "stream",
          "name": "stdout",
          "text": [
            "Model and tokenizer saved.\n"
          ]
        }
      ]
    },
    {
      "cell_type": "code",
      "source": [
        "metrics = evaluate_model_with_matrix(trainer_2, val_dataset_mlm, id2label_mlm)\n",
        "print(\"\\nFinal Evaluation Metrics:\")\n",
        "for metric, value in metrics.items():\n",
        "    print(f\"{metric}: {value:.4f}\")"
      ],
      "metadata": {
        "colab": {
          "base_uri": "https://localhost:8080/",
          "height": 886
        },
        "id": "92SIlD-8ItaV",
        "outputId": "8e7699c7-c4fa-475a-a984-8464dab8ffbe"
      },
      "execution_count": null,
      "outputs": [
        {
          "output_type": "stream",
          "name": "stdout",
          "text": [
            "Running evaluation on validation set...\n"
          ]
        },
        {
          "output_type": "display_data",
          "data": {
            "text/plain": [
              "<IPython.core.display.HTML object>"
            ],
            "text/html": []
          },
          "metadata": {}
        },
        {
          "output_type": "stream",
          "name": "stdout",
          "text": [
            "\n",
            "Classification Report (Excluding 'O'):\n",
            "              precision    recall  f1-score   support\n",
            "\n",
            "        DATE      0.800     0.885     0.840       226\n",
            "         GPE      0.846     0.786     0.815        70\n",
            "       MONEY      0.844     0.809     0.826       194\n",
            "         ORG      0.865     0.823     0.843       373\n",
            "      PERSON      0.831     0.881     0.855       168\n",
            "        TIME      0.735     0.725     0.730       138\n",
            "\n",
            "   micro avg      0.826     0.827     0.827      1169\n",
            "   macro avg      0.820     0.818     0.818      1169\n",
            "weighted avg      0.828     0.827     0.827      1169\n",
            "\n"
          ]
        },
        {
          "output_type": "display_data",
          "data": {
            "text/plain": [
              "<Figure size 800x600 with 0 Axes>"
            ]
          },
          "metadata": {}
        },
        {
          "output_type": "display_data",
          "data": {
            "text/plain": [
              "<Figure size 640x480 with 2 Axes>"
            ],
            "image/png": "[encoded data removed]"
          },
          "metadata": {}
        },
        {
          "output_type": "stream",
          "name": "stdout",
          "text": [
            "\n",
            "Final Evaluation Metrics:\n",
            "precision: 0.8265\n",
            "recall: 0.8272\n",
            "f1: 0.8268\n",
            "accuracy: 0.8805\n"
          ]
        }
      ]
    },
    {
      "cell_type": "markdown",
      "source": [
        "### MLM- Extend the Sentence Mask Size"
      ],
      "metadata": {
        "id": "OlQvcli5uuFW"
      }
    },
    {
      "cell_type": "code",
      "source": [
        "sentences_mask_extend = pd.read_csv(\"/content/drive/MyDrive/sentence_entities.csv\")\n",
        "sentences_mask_extend = sentences_mask_extend[5000:19000]\n",
        "\n",
        "sentences_mask_extend.reset_index(drop=True, inplace=True)\n",
        "\n",
        "hf_dataset_extend = Dataset.from_pandas(sentences_mask_extend)\n",
        "\n",
        "tokenized_dataset_extend = hf_dataset_extend.map(tokenize_function, batched=True, remove_columns=[\"sentence\"])\n"
      ],
      "metadata": {
        "colab": {
          "base_uri": "https://localhost:8080/",
          "height": 49,
          "referenced_widgets": [
            "e154eeabf8e343f291948a293b4104f9",
            "a3f4f560f1b943d9b542dda30e297a1a",
            "5db4b067deaf4d579e7c40c03dc03382",
            "9c6834a42c9046b3803317b918170ae9",
            "2d53877f04614f658bdb8284a575165c",
            "84cfe4bcb1d749fab09930150e56155a",
            "078fbf5a6b9e437cb0179875224363c8",
            "7900bf85af2249b2ae3fb3cf0f886d29",
            "42981c9a991448a981298efc40236519",
            "ca139ecba20f4fcca065dcea1866e2e5",
            "e9d56b2620014fce84a1027c641ace3e"
          ]
        },
        "id": "8npTypyBuz_X",
        "outputId": "e72c6c8b-d3c9-4ff3-e659-768752ca1fcb"
      },
      "execution_count": null,
      "outputs": [
        {
          "output_type": "display_data",
          "data": {
            "text/plain": [
              "Map:   0%|          | 0/14000 [00:00<?, ? examples/s]"
            ],
            "application/vnd.jupyter.widget-view+json": {
              "version_major": 2,
              "version_minor": 0,
              "model_id": "e154eeabf8e343f291948a293b4104f9"
            }
          },
          "metadata": {}
        }
      ]
    },
    {
      "cell_type": "code",
      "source": [
        "os.environ[\"WANDB_DISABLED\"] = \"true\"\n",
        "model = BertForMaskedLM.from_pretrained(\"bert-base-cased\")\n",
        "training_args = TrainingArguments(\n",
        "    output_dir=\"./mlm-enron-bert-base_v2\",\n",
        "    overwrite_output_dir=True,\n",
        "    num_train_epochs=3,\n",
        "    per_device_train_batch_size=16,\n",
        "    save_steps=500,\n",
        "    save_total_limit=1,\n",
        "    logging_steps=100,\n",
        "    eval_strategy=\"no\",\n",
        "    seed=42\n",
        ")\n",
        "\n",
        "trainer = Trainer(\n",
        "    model=model,\n",
        "    args=training_args,\n",
        "    train_dataset=tokenized_dataset_extend,\n",
        "    tokenizer=tokenizer,\n",
        "    data_collator=data_collator\n",
        ")\n",
        "\n",
        "\n",
        "trainer.train()\n",
        "\n",
        "trainer.save_model(\"mlm-enron-bert-base_v2\")\n",
        "tokenizer.save_pretrained(\"mlm-enron-bert-base_v2\")"
      ],
      "metadata": {
        "colab": {
          "base_uri": "https://localhost:8080/",
          "height": 1000
        },
        "id": "rweNklI9voOK",
        "outputId": "ecff1684-ff25-4315-a2f9-a2918bdd57f1"
      },
      "execution_count": null,
      "outputs": [
        {
          "output_type": "stream",
          "name": "stderr",
          "text": [
            "Some weights of the model checkpoint at bert-base-cased were not used when initializing BertForMaskedLM: ['bert.pooler.dense.bias', 'bert.pooler.dense.weight', 'cls.seq_relationship.bias', 'cls.seq_relationship.weight']\n",
            "- This IS expected if you are initializing BertForMaskedLM from the checkpoint of a model trained on another task or with another architecture (e.g. initializing a BertForSequenceClassification model from a BertForPreTraining model).\n",
            "- This IS NOT expected if you are initializing BertForMaskedLM from the checkpoint of a model that you expect to be exactly identical (initializing a BertForSequenceClassification model from a BertForSequenceClassification model).\n",
            "Using the `WANDB_DISABLED` environment variable is deprecated and will be removed in v5. Use the --report_to flag to control the integrations used for logging result (for instance --report_to none).\n",
            "/tmp/ipython-input-14-2410705794.py:15: FutureWarning: `tokenizer` is deprecated and will be removed in version 5.0.0 for `Trainer.__init__`. Use `processing_class` instead.\n",
            "  trainer = Trainer(\n"
          ]
        },
        {
          "output_type": "display_data",
          "data": {
            "text/plain": [
              "<IPython.core.display.HTML object>"
            ],
            "text/html": [
              "\n",
              "    <div>\n",
              "      \n",
              "      <progress value='2625' max='2625' style='width:300px; height:20px; vertical-align: middle;'></progress>\n",
              "      [2625/2625 20:29, Epoch 3/3]\n",
              "    </div>\n",
              "    <table border=\"1\" class=\"dataframe\">\n",
              "  <thead>\n",
              " <tr style=\"text-align: left;\">\n",
              "      <th>Step</th>\n",
              "      <th>Training Loss</th>\n",
              "    </tr>\n",
              "  </thead>\n",
              "  <tbody>\n",
              "    <tr>\n",
              "      <td>100</td>\n",
              "      <td>2.690100</td>\n",
              "    </tr>\n",
              "    <tr>\n",
              "      <td>200</td>\n",
              "      <td>2.640000</td>\n",
              "    </tr>\n",
              "    <tr>\n",
              "      <td>300</td>\n",
              "      <td>2.557100</td>\n",
              "    </tr>\n",
              "    <tr>\n",
              "      <td>400</td>\n",
              "      <td>2.547600</td>\n",
              "    </tr>\n",
              "    <tr>\n",
              "      <td>500</td>\n",
              "      <td>2.524300</td>\n",
              "    </tr>\n",
              "    <tr>\n",
              "      <td>600</td>\n",
              "      <td>2.530600</td>\n",
              "    </tr>\n",
              "    <tr>\n",
              "      <td>700</td>\n",
              "      <td>2.480100</td>\n",
              "    </tr>\n",
              "    <tr>\n",
              "      <td>800</td>\n",
              "      <td>2.427700</td>\n",
              "    </tr>\n",
              "    <tr>\n",
              "      <td>900</td>\n",
              "      <td>2.393600</td>\n",
              "    </tr>\n",
              "    <tr>\n",
              "      <td>1000</td>\n",
              "      <td>2.360500</td>\n",
              "    </tr>\n",
              "    <tr>\n",
              "      <td>1100</td>\n",
              "      <td>2.270000</td>\n",
              "    </tr>\n",
              "    <tr>\n",
              "      <td>1200</td>\n",
              "      <td>2.275500</td>\n",
              "    </tr>\n",
              "    <tr>\n",
              "      <td>1300</td>\n",
              "      <td>2.314200</td>\n",
              "    </tr>\n",
              "    <tr>\n",
              "      <td>1400</td>\n",
              "      <td>2.272700</td>\n",
              "    </tr>\n",
              "    <tr>\n",
              "      <td>1500</td>\n",
              "      <td>2.249900</td>\n",
              "    </tr>\n",
              "    <tr>\n",
              "      <td>1600</td>\n",
              "      <td>2.120400</td>\n",
              "    </tr>\n",
              "    <tr>\n",
              "      <td>1700</td>\n",
              "      <td>2.200700</td>\n",
              "    </tr>\n",
              "    <tr>\n",
              "      <td>1800</td>\n",
              "      <td>2.134200</td>\n",
              "    </tr>\n",
              "    <tr>\n",
              "      <td>1900</td>\n",
              "      <td>2.172100</td>\n",
              "    </tr>\n",
              "    <tr>\n",
              "      <td>2000</td>\n",
              "      <td>2.087200</td>\n",
              "    </tr>\n",
              "    <tr>\n",
              "      <td>2100</td>\n",
              "      <td>2.103100</td>\n",
              "    </tr>\n",
              "    <tr>\n",
              "      <td>2200</td>\n",
              "      <td>2.127300</td>\n",
              "    </tr>\n",
              "    <tr>\n",
              "      <td>2300</td>\n",
              "      <td>2.124200</td>\n",
              "    </tr>\n",
              "    <tr>\n",
              "      <td>2400</td>\n",
              "      <td>2.094500</td>\n",
              "    </tr>\n",
              "    <tr>\n",
              "      <td>2500</td>\n",
              "      <td>2.113900</td>\n",
              "    </tr>\n",
              "    <tr>\n",
              "      <td>2600</td>\n",
              "      <td>2.136300</td>\n",
              "    </tr>\n",
              "  </tbody>\n",
              "</table><p>"
            ]
          },
          "metadata": {}
        },
        {
          "output_type": "execute_result",
          "data": {
            "text/plain": [
              "('mlm-enron-bert-base_v2/tokenizer_config.json',\n",
              " 'mlm-enron-bert-base_v2/special_tokens_map.json',\n",
              " 'mlm-enron-bert-base_v2/vocab.txt',\n",
              " 'mlm-enron-bert-base_v2/added_tokens.json',\n",
              " 'mlm-enron-bert-base_v2/tokenizer.json')"
            ]
          },
          "metadata": {},
          "execution_count": 14
        }
      ]
    },
    {
      "cell_type": "code",
      "source": [
        "# NER fine-tuning\n",
        "from transformers import AutoModelForTokenClassification\n",
        "MODEL_NAME = \"./mlm-enron-bert-base_v2\"\n",
        "OUTPUT_DIR = \"./mlm_ner_bert\"\n",
        "set_seed(RANDOM_STATE)\n",
        "train_df_mlm, val_df_mlm = prepare_data(processed_df)\n",
        "train_dataset_mlm, val_dataset_mlm, tokenizer_mlm, id2label_mlm, label2id_mlm, num_labels_mlm = tokenize_data(train_df_mlm, val_df_mlm)\n",
        "os.environ[\"WANDB_DISABLED\"] = \"true\"\n",
        "trainer_3 = train_model(train_dataset_mlm, val_dataset_mlm, tokenizer_mlm, num_labels_mlm, id2label_mlm, label2id_mlm)"
      ],
      "metadata": {
        "colab": {
          "base_uri": "https://localhost:8080/",
          "height": 455,
          "referenced_widgets": [
            "df97478caff24d1e8935c2339edfd289",
            "678b5a1f4deb47628cecf8560dfbf921",
            "3590e155a393450a86222d4b8cb01304",
            "f8e1d943f56d4255b87b99dccc6f027f",
            "9c76ef4cdd114ba1854858b2ca65ef3e",
            "fdd1d8ebf2bf40b8a4dd33b02debca7b",
            "a3cc6d211f794a9db46f311c14f6bb70",
            "0107ed668f5c4faa8448bc091b0b5fa0",
            "44beba72b36a4068b799fd858723ab90",
            "da1556614976492f983368dbebc1c751",
            "79ddd7707b304e66897c30b5742edffa",
            "1d6030674e284659a0af0aaae05493b1",
            "f98cdac29cda4456b63842f137a07a3b",
            "d6aba6fa811647ff96f00604ee7b9cd1",
            "4461278d21a34d5d845bac83ecb7a557",
            "3040ddaeef894a82ab2a703185fbb0ca",
            "da6731cb57c54e0cbad9f52717f8b1a4",
            "2f48775a56844bf99ea8deae686306a9",
            "39475c8148874e5fafd2b12d200e4560",
            "504ee06a4e32488c9ca8e8b401c3f68a",
            "3c9623354c5240ef99d9d4f29a5a7dc7",
            "bea039e7bd1d4f118b51a4db7ea04920"
          ]
        },
        "id": "iBgqa1Xr8NZm",
        "outputId": "aff64312-aa40-4e4a-df01-5b26a3dd169b"
      },
      "execution_count": null,
      "outputs": [
        {
          "output_type": "display_data",
          "data": {
            "text/plain": [
              "Map:   0%|          | 0/1268 [00:00<?, ? examples/s]"
            ],
            "application/vnd.jupyter.widget-view+json": {
              "version_major": 2,
              "version_minor": 0,
              "model_id": "df97478caff24d1e8935c2339edfd289"
            }
          },
          "metadata": {}
        },
        {
          "output_type": "display_data",
          "data": {
            "text/plain": [
              "Map:   0%|          | 0/317 [00:00<?, ? examples/s]"
            ],
            "application/vnd.jupyter.widget-view+json": {
              "version_major": 2,
              "version_minor": 0,
              "model_id": "1d6030674e284659a0af0aaae05493b1"
            }
          },
          "metadata": {}
        },
        {
          "output_type": "stream",
          "name": "stdout",
          "text": [
            "Training NER model with  ./mlm-enron-bert-base_v2  ....\n",
            "\n"
          ]
        },
        {
          "output_type": "stream",
          "name": "stderr",
          "text": [
            "Some weights of BertForTokenClassification were not initialized from the model checkpoint at ./mlm-enron-bert-base_v2 and are newly initialized: ['classifier.bias', 'classifier.weight']\n",
            "You should probably TRAIN this model on a down-stream task to be able to use it for predictions and inference.\n",
            "Using the `WANDB_DISABLED` environment variable is deprecated and will be removed in v5. Use the --report_to flag to control the integrations used for logging result (for instance --report_to none).\n",
            "/tmp/ipython-input-5-3309269933.py:174: FutureWarning: `tokenizer` is deprecated and will be removed in version 5.0.0 for `Trainer.__init__`. Use `processing_class` instead.\n",
            "  trainer = Trainer(\n"
          ]
        },
        {
          "output_type": "display_data",
          "data": {
            "text/plain": [
              "<IPython.core.display.HTML object>"
            ],
            "text/html": [
              "\n",
              "    <div>\n",
              "      \n",
              "      <progress value='795' max='795' style='width:300px; height:20px; vertical-align: middle;'></progress>\n",
              "      [795/795 05:01, Epoch 5/5]\n",
              "    </div>\n",
              "    <table border=\"1\" class=\"dataframe\">\n",
              "  <thead>\n",
              " <tr style=\"text-align: left;\">\n",
              "      <th>Epoch</th>\n",
              "      <th>Training Loss</th>\n",
              "      <th>Validation Loss</th>\n",
              "      <th>Precision</th>\n",
              "      <th>Recall</th>\n",
              "      <th>F1</th>\n",
              "      <th>Accuracy</th>\n",
              "    </tr>\n",
              "  </thead>\n",
              "  <tbody>\n",
              "    <tr>\n",
              "      <td>1</td>\n",
              "      <td>0.299300</td>\n",
              "      <td>0.236223</td>\n",
              "      <td>0.754113</td>\n",
              "      <td>0.745081</td>\n",
              "      <td>0.749570</td>\n",
              "      <td>0.800051</td>\n",
              "    </tr>\n",
              "    <tr>\n",
              "      <td>2</td>\n",
              "      <td>0.176800</td>\n",
              "      <td>0.209143</td>\n",
              "      <td>0.796134</td>\n",
              "      <td>0.775021</td>\n",
              "      <td>0.785436</td>\n",
              "      <td>0.823484</td>\n",
              "    </tr>\n",
              "    <tr>\n",
              "      <td>3</td>\n",
              "      <td>0.112700</td>\n",
              "      <td>0.200384</td>\n",
              "      <td>0.842513</td>\n",
              "      <td>0.837468</td>\n",
              "      <td>0.839983</td>\n",
              "      <td>0.879012</td>\n",
              "    </tr>\n",
              "    <tr>\n",
              "      <td>4</td>\n",
              "      <td>0.045500</td>\n",
              "      <td>0.216878</td>\n",
              "      <td>0.847234</td>\n",
              "      <td>0.825492</td>\n",
              "      <td>0.836222</td>\n",
              "      <td>0.865257</td>\n",
              "    </tr>\n",
              "    <tr>\n",
              "      <td>5</td>\n",
              "      <td>0.062200</td>\n",
              "      <td>0.226552</td>\n",
              "      <td>0.848908</td>\n",
              "      <td>0.831480</td>\n",
              "      <td>0.840104</td>\n",
              "      <td>0.874427</td>\n",
              "    </tr>\n",
              "  </tbody>\n",
              "</table><p>"
            ]
          },
          "metadata": {}
        },
        {
          "output_type": "stream",
          "name": "stdout",
          "text": [
            "Model and tokenizer saved.\n"
          ]
        }
      ]
    },
    {
      "cell_type": "code",
      "source": [
        "metrics = evaluate_model_with_matrix(trainer_3, val_dataset_mlm, id2label_mlm)\n",
        "print(\"\\nFinal Evaluation Metrics:\")\n",
        "for metric, value in metrics.items():\n",
        "    print(f\"{metric}: {value:.4f}\")"
      ],
      "metadata": {
        "colab": {
          "base_uri": "https://localhost:8080/",
          "height": 886
        },
        "id": "kMDL6euH-Hi4",
        "outputId": "71d4911c-b29e-482d-d750-24d39161b2fe"
      },
      "execution_count": null,
      "outputs": [
        {
          "output_type": "stream",
          "name": "stdout",
          "text": [
            "Running evaluation on validation set...\n"
          ]
        },
        {
          "output_type": "display_data",
          "data": {
            "text/plain": [
              "<IPython.core.display.HTML object>"
            ],
            "text/html": []
          },
          "metadata": {}
        },
        {
          "output_type": "stream",
          "name": "stdout",
          "text": [
            "\n",
            "Classification Report (Excluding 'O'):\n",
            "              precision    recall  f1-score   support\n",
            "\n",
            "        DATE      0.839     0.898     0.868       226\n",
            "         GPE      0.838     0.814     0.826        70\n",
            "       MONEY      0.867     0.840     0.853       194\n",
            "         ORG      0.867     0.823     0.845       373\n",
            "      PERSON      0.828     0.887     0.856       168\n",
            "        TIME      0.769     0.725     0.746       138\n",
            "\n",
            "   micro avg      0.843     0.837     0.840      1169\n",
            "   macro avg      0.835     0.831     0.832      1169\n",
            "weighted avg      0.843     0.837     0.839      1169\n",
            "\n"
          ]
        },
        {
          "output_type": "display_data",
          "data": {
            "text/plain": [
              "<Figure size 800x600 with 0 Axes>"
            ]
          },
          "metadata": {}
        },
        {
          "output_type": "display_data",
          "data": {
            "text/plain": [
              "<Figure size 640x480 with 2 Axes>"
            ],
            "image/png": "[encoded data removed]"
          },
          "metadata": {}
        },
        {
          "output_type": "stream",
          "name": "stdout",
          "text": [
            "\n",
            "Final Evaluation Metrics:\n",
            "precision: 0.8425\n",
            "recall: 0.8375\n",
            "f1: 0.8400\n",
            "accuracy: 0.8790\n"
          ]
        }
      ]
    },
    {
      "cell_type": "code",
      "source": [
        "trainer_3.model.config.id2label = id2label_mlm\n",
        "trainer_3.model.config.label2id = label2id_mlm\n",
        "\n",
        "trainer_3.save_model(\"./mlm_ner_bert\")\n",
        "tokenizer_mlm.save_pretrained(\"./mlm_ner_bert\")\n"
      ],
      "metadata": {
        "colab": {
          "base_uri": "https://localhost:8080/"
        },
        "id": "6zYykpNbXaru",
        "outputId": "30406880-7507-4ce5-f59c-db15f629fab4"
      },
      "execution_count": null,
      "outputs": [
        {
          "output_type": "execute_result",
          "data": {
            "text/plain": [
              "('./mlm_ner_bert/tokenizer_config.json',\n",
              " './mlm_ner_bert/special_tokens_map.json',\n",
              " './mlm_ner_bert/vocab.txt',\n",
              " './mlm_ner_bert/added_tokens.json',\n",
              " './mlm_ner_bert/tokenizer.json')"
            ]
          },
          "metadata": {},
          "execution_count": 17
        }
      ]
    },
    {
      "cell_type": "markdown",
      "source": [
        "**General Conclusion:**\n",
        "\n",
        "Increasing the amount of unlabeled domain text from 12k to 14k led to a modest but consistent improvement in accuracy, recall, and overall F1. While some entity-specific F1 scores (like ORG) slightly dropped, the 14k model showed better generalization and span recognition across the board."
      ],
      "metadata": {
        "id": "quSdiNRD-tT8"
      }
    },
    {
      "cell_type": "code",
      "source": [
        "import os\n",
        "source_folder = '/content/mlm_ner_bert'\n",
        "\n",
        "if os.path.exists(source_folder):\n",
        "    print(f\"Checking the size of '{source_folder}'...\")\n",
        "    !du -sh \"$source_folder\"\n",
        "else:\n",
        "    print(f\"Error: Folder '{source_folder}' not found. Please ensure it exists.\")\n",
        "\n",
        "destination_folder = '/content/drive/MyDrive/mlm_ner_bert'\n",
        "\n",
        "print(f\"Copying '{source_folder}' to '{destination_folder}'...\")\n",
        "!cp -r \"$source_folder\" \"$destination_folder\"\n",
        "\n",
        "print(\"\\nCopy complete!\")\n",
        "print(f\"You should now find your model at: {destination_folder}\")"
      ],
      "metadata": {
        "colab": {
          "base_uri": "https://localhost:8080/"
        },
        "id": "KtdMlwCrPuRC",
        "outputId": "6dea94ff-a8c8-454d-9863-c68f76df8ae9"
      },
      "execution_count": null,
      "outputs": [
        {
          "output_type": "stream",
          "name": "stdout",
          "text": [
            "Checking the size of '/content/mlm_ner_bert'...\n",
            "1.7G\t/content/mlm_ner_bert\n",
            "Copying '/content/mlm_ner_bert' to '/content/drive/MyDrive/mlm_ner_bert'...\n",
            "\n",
            "Copy complete!\n",
            "You should now find your model at: /content/drive/MyDrive/mlm_ner_bert\n"
          ]
        }
      ]
    }
  ]
}
